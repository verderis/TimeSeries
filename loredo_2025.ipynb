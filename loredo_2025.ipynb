{
 "cells": [
  {
   "cell_type": "code",
   "execution_count": 10,
   "id": "ab825833",
   "metadata": {},
   "outputs": [],
   "source": [
    "import pymc as pm\n",
    "import numpy as np\n",
    "import pytensor as pt\n",
    "import pytensor.tensor as tt\n",
    "import pandas as pd\n",
    "from matplotlib import pyplot as plt"
   ]
  },
  {
   "cell_type": "code",
   "execution_count": 2,
   "id": "45288ea7",
   "metadata": {},
   "outputs": [],
   "source": [
    "s = []\n",
    "for i in np.arange(347):\n",
    "    s.append(str(i))"
   ]
  },
  {
   "cell_type": "code",
   "execution_count": 3,
   "id": "50a10cb9",
   "metadata": {},
   "outputs": [],
   "source": [
    "data = pd.read_csv('EVI.csv', header=0, names=s)"
   ]
  },
  {
   "cell_type": "code",
   "execution_count": 4,
   "id": "121be909",
   "metadata": {},
   "outputs": [
    {
     "data": {
      "text/html": [
       "<div>\n",
       "<style scoped>\n",
       "    .dataframe tbody tr th:only-of-type {\n",
       "        vertical-align: middle;\n",
       "    }\n",
       "\n",
       "    .dataframe tbody tr th {\n",
       "        vertical-align: top;\n",
       "    }\n",
       "\n",
       "    .dataframe thead th {\n",
       "        text-align: right;\n",
       "    }\n",
       "</style>\n",
       "<table border=\"1\" class=\"dataframe\">\n",
       "  <thead>\n",
       "    <tr style=\"text-align: right;\">\n",
       "      <th></th>\n",
       "      <th>0</th>\n",
       "      <th>1</th>\n",
       "      <th>2</th>\n",
       "      <th>3</th>\n",
       "      <th>4</th>\n",
       "      <th>5</th>\n",
       "      <th>6</th>\n",
       "      <th>7</th>\n",
       "      <th>8</th>\n",
       "      <th>9</th>\n",
       "      <th>...</th>\n",
       "      <th>337</th>\n",
       "      <th>338</th>\n",
       "      <th>339</th>\n",
       "      <th>340</th>\n",
       "      <th>341</th>\n",
       "      <th>342</th>\n",
       "      <th>343</th>\n",
       "      <th>344</th>\n",
       "      <th>345</th>\n",
       "      <th>346</th>\n",
       "    </tr>\n",
       "  </thead>\n",
       "  <tbody>\n",
       "    <tr>\n",
       "      <th>0</th>\n",
       "      <td>0.4560</td>\n",
       "      <td>NaN</td>\n",
       "      <td>0.3975</td>\n",
       "      <td>0.3183</td>\n",
       "      <td>0.3022</td>\n",
       "      <td>0.2870</td>\n",
       "      <td>0.2886</td>\n",
       "      <td>0.2236</td>\n",
       "      <td>0.2318</td>\n",
       "      <td>0.1911</td>\n",
       "      <td>...</td>\n",
       "      <td>0.2832</td>\n",
       "      <td>0.3471</td>\n",
       "      <td>0.3432</td>\n",
       "      <td>NaN</td>\n",
       "      <td>0.3971</td>\n",
       "      <td>0.4401</td>\n",
       "      <td>0.3606</td>\n",
       "      <td>0.3702</td>\n",
       "      <td>0.4172</td>\n",
       "      <td>0.4218</td>\n",
       "    </tr>\n",
       "    <tr>\n",
       "      <th>1</th>\n",
       "      <td>0.4652</td>\n",
       "      <td>NaN</td>\n",
       "      <td>0.3807</td>\n",
       "      <td>0.3194</td>\n",
       "      <td>0.2936</td>\n",
       "      <td>0.2985</td>\n",
       "      <td>0.2810</td>\n",
       "      <td>0.2221</td>\n",
       "      <td>0.2281</td>\n",
       "      <td>0.1891</td>\n",
       "      <td>...</td>\n",
       "      <td>0.2933</td>\n",
       "      <td>0.3547</td>\n",
       "      <td>0.3450</td>\n",
       "      <td>NaN</td>\n",
       "      <td>0.4069</td>\n",
       "      <td>0.4418</td>\n",
       "      <td>0.3606</td>\n",
       "      <td>0.3621</td>\n",
       "      <td>NaN</td>\n",
       "      <td>0.4294</td>\n",
       "    </tr>\n",
       "    <tr>\n",
       "      <th>2</th>\n",
       "      <td>0.4642</td>\n",
       "      <td>NaN</td>\n",
       "      <td>0.3748</td>\n",
       "      <td>0.3107</td>\n",
       "      <td>0.2918</td>\n",
       "      <td>0.3008</td>\n",
       "      <td>0.2810</td>\n",
       "      <td>0.2221</td>\n",
       "      <td>0.2277</td>\n",
       "      <td>0.1851</td>\n",
       "      <td>...</td>\n",
       "      <td>0.2804</td>\n",
       "      <td>0.3445</td>\n",
       "      <td>0.3450</td>\n",
       "      <td>NaN</td>\n",
       "      <td>0.4032</td>\n",
       "      <td>0.4490</td>\n",
       "      <td>0.3527</td>\n",
       "      <td>0.3750</td>\n",
       "      <td>NaN</td>\n",
       "      <td>0.4099</td>\n",
       "    </tr>\n",
       "    <tr>\n",
       "      <th>3</th>\n",
       "      <td>0.4576</td>\n",
       "      <td>NaN</td>\n",
       "      <td>0.3624</td>\n",
       "      <td>0.3076</td>\n",
       "      <td>0.2811</td>\n",
       "      <td>0.3083</td>\n",
       "      <td>0.2754</td>\n",
       "      <td>0.2134</td>\n",
       "      <td>0.2194</td>\n",
       "      <td>0.1820</td>\n",
       "      <td>...</td>\n",
       "      <td>0.2998</td>\n",
       "      <td>0.3517</td>\n",
       "      <td>0.3450</td>\n",
       "      <td>NaN</td>\n",
       "      <td>0.4006</td>\n",
       "      <td>0.4494</td>\n",
       "      <td>0.3551</td>\n",
       "      <td>0.3586</td>\n",
       "      <td>NaN</td>\n",
       "      <td>0.4326</td>\n",
       "    </tr>\n",
       "    <tr>\n",
       "      <th>4</th>\n",
       "      <td>0.4468</td>\n",
       "      <td>NaN</td>\n",
       "      <td>0.3600</td>\n",
       "      <td>0.2974</td>\n",
       "      <td>0.2681</td>\n",
       "      <td>0.3129</td>\n",
       "      <td>0.2698</td>\n",
       "      <td>0.2099</td>\n",
       "      <td>0.2194</td>\n",
       "      <td>0.1773</td>\n",
       "      <td>...</td>\n",
       "      <td>0.2891</td>\n",
       "      <td>0.3464</td>\n",
       "      <td>0.3468</td>\n",
       "      <td>NaN</td>\n",
       "      <td>0.3861</td>\n",
       "      <td>0.4378</td>\n",
       "      <td>0.3388</td>\n",
       "      <td>0.3273</td>\n",
       "      <td>NaN</td>\n",
       "      <td>0.4228</td>\n",
       "    </tr>\n",
       "    <tr>\n",
       "      <th>...</th>\n",
       "      <td>...</td>\n",
       "      <td>...</td>\n",
       "      <td>...</td>\n",
       "      <td>...</td>\n",
       "      <td>...</td>\n",
       "      <td>...</td>\n",
       "      <td>...</td>\n",
       "      <td>...</td>\n",
       "      <td>...</td>\n",
       "      <td>...</td>\n",
       "      <td>...</td>\n",
       "      <td>...</td>\n",
       "      <td>...</td>\n",
       "      <td>...</td>\n",
       "      <td>...</td>\n",
       "      <td>...</td>\n",
       "      <td>...</td>\n",
       "      <td>...</td>\n",
       "      <td>...</td>\n",
       "      <td>...</td>\n",
       "      <td>...</td>\n",
       "    </tr>\n",
       "    <tr>\n",
       "      <th>11295</th>\n",
       "      <td>0.4263</td>\n",
       "      <td>NaN</td>\n",
       "      <td>0.3711</td>\n",
       "      <td>0.3008</td>\n",
       "      <td>0.2867</td>\n",
       "      <td>0.3200</td>\n",
       "      <td>0.2856</td>\n",
       "      <td>0.2336</td>\n",
       "      <td>0.2417</td>\n",
       "      <td>0.2061</td>\n",
       "      <td>...</td>\n",
       "      <td>0.3174</td>\n",
       "      <td>0.4838</td>\n",
       "      <td>0.2843</td>\n",
       "      <td>NaN</td>\n",
       "      <td>0.3790</td>\n",
       "      <td>0.4730</td>\n",
       "      <td>0.4753</td>\n",
       "      <td>0.3612</td>\n",
       "      <td>0.4667</td>\n",
       "      <td>0.4319</td>\n",
       "    </tr>\n",
       "    <tr>\n",
       "      <th>11296</th>\n",
       "      <td>0.4412</td>\n",
       "      <td>NaN</td>\n",
       "      <td>0.3804</td>\n",
       "      <td>0.3055</td>\n",
       "      <td>0.3123</td>\n",
       "      <td>0.2833</td>\n",
       "      <td>0.2856</td>\n",
       "      <td>0.2278</td>\n",
       "      <td>0.2267</td>\n",
       "      <td>0.1967</td>\n",
       "      <td>...</td>\n",
       "      <td>0.2627</td>\n",
       "      <td>0.2769</td>\n",
       "      <td>0.1956</td>\n",
       "      <td>NaN</td>\n",
       "      <td>0.1590</td>\n",
       "      <td>0.3577</td>\n",
       "      <td>0.3272</td>\n",
       "      <td>0.6130</td>\n",
       "      <td>0.8339</td>\n",
       "      <td>0.6045</td>\n",
       "    </tr>\n",
       "    <tr>\n",
       "      <th>11297</th>\n",
       "      <td>0.4610</td>\n",
       "      <td>NaN</td>\n",
       "      <td>0.3835</td>\n",
       "      <td>0.3165</td>\n",
       "      <td>0.3134</td>\n",
       "      <td>0.2578</td>\n",
       "      <td>0.2923</td>\n",
       "      <td>0.2326</td>\n",
       "      <td>0.2267</td>\n",
       "      <td>0.1927</td>\n",
       "      <td>...</td>\n",
       "      <td>0.1562</td>\n",
       "      <td>0.1554</td>\n",
       "      <td>0.1581</td>\n",
       "      <td>NaN</td>\n",
       "      <td>0.1512</td>\n",
       "      <td>0.1602</td>\n",
       "      <td>0.3670</td>\n",
       "      <td>0.6244</td>\n",
       "      <td>0.8663</td>\n",
       "      <td>0.7845</td>\n",
       "    </tr>\n",
       "    <tr>\n",
       "      <th>11298</th>\n",
       "      <td>0.4566</td>\n",
       "      <td>NaN</td>\n",
       "      <td>0.3876</td>\n",
       "      <td>0.3174</td>\n",
       "      <td>0.3208</td>\n",
       "      <td>0.2883</td>\n",
       "      <td>0.2869</td>\n",
       "      <td>0.2288</td>\n",
       "      <td>0.2263</td>\n",
       "      <td>0.1930</td>\n",
       "      <td>...</td>\n",
       "      <td>0.1645</td>\n",
       "      <td>0.1945</td>\n",
       "      <td>0.1680</td>\n",
       "      <td>NaN</td>\n",
       "      <td>0.2586</td>\n",
       "      <td>NaN</td>\n",
       "      <td>0.3687</td>\n",
       "      <td>0.5850</td>\n",
       "      <td>0.5896</td>\n",
       "      <td>0.7060</td>\n",
       "    </tr>\n",
       "    <tr>\n",
       "      <th>11299</th>\n",
       "      <td>0.4543</td>\n",
       "      <td>NaN</td>\n",
       "      <td>0.3876</td>\n",
       "      <td>0.3206</td>\n",
       "      <td>0.3259</td>\n",
       "      <td>0.2567</td>\n",
       "      <td>0.2808</td>\n",
       "      <td>0.2313</td>\n",
       "      <td>0.2334</td>\n",
       "      <td>0.1967</td>\n",
       "      <td>...</td>\n",
       "      <td>0.1959</td>\n",
       "      <td>0.1893</td>\n",
       "      <td>0.1552</td>\n",
       "      <td>NaN</td>\n",
       "      <td>0.2517</td>\n",
       "      <td>NaN</td>\n",
       "      <td>0.2795</td>\n",
       "      <td>0.4637</td>\n",
       "      <td>0.5596</td>\n",
       "      <td>0.5283</td>\n",
       "    </tr>\n",
       "  </tbody>\n",
       "</table>\n",
       "<p>11300 rows × 347 columns</p>\n",
       "</div>"
      ],
      "text/plain": [
       "            0   1       2       3       4       5       6       7       8  \\\n",
       "0      0.4560 NaN  0.3975  0.3183  0.3022  0.2870  0.2886  0.2236  0.2318   \n",
       "1      0.4652 NaN  0.3807  0.3194  0.2936  0.2985  0.2810  0.2221  0.2281   \n",
       "2      0.4642 NaN  0.3748  0.3107  0.2918  0.3008  0.2810  0.2221  0.2277   \n",
       "3      0.4576 NaN  0.3624  0.3076  0.2811  0.3083  0.2754  0.2134  0.2194   \n",
       "4      0.4468 NaN  0.3600  0.2974  0.2681  0.3129  0.2698  0.2099  0.2194   \n",
       "...       ...  ..     ...     ...     ...     ...     ...     ...     ...   \n",
       "11295  0.4263 NaN  0.3711  0.3008  0.2867  0.3200  0.2856  0.2336  0.2417   \n",
       "11296  0.4412 NaN  0.3804  0.3055  0.3123  0.2833  0.2856  0.2278  0.2267   \n",
       "11297  0.4610 NaN  0.3835  0.3165  0.3134  0.2578  0.2923  0.2326  0.2267   \n",
       "11298  0.4566 NaN  0.3876  0.3174  0.3208  0.2883  0.2869  0.2288  0.2263   \n",
       "11299  0.4543 NaN  0.3876  0.3206  0.3259  0.2567  0.2808  0.2313  0.2334   \n",
       "\n",
       "            9  ...     337     338     339  340     341     342     343  \\\n",
       "0      0.1911  ...  0.2832  0.3471  0.3432  NaN  0.3971  0.4401  0.3606   \n",
       "1      0.1891  ...  0.2933  0.3547  0.3450  NaN  0.4069  0.4418  0.3606   \n",
       "2      0.1851  ...  0.2804  0.3445  0.3450  NaN  0.4032  0.4490  0.3527   \n",
       "3      0.1820  ...  0.2998  0.3517  0.3450  NaN  0.4006  0.4494  0.3551   \n",
       "4      0.1773  ...  0.2891  0.3464  0.3468  NaN  0.3861  0.4378  0.3388   \n",
       "...       ...  ...     ...     ...     ...  ...     ...     ...     ...   \n",
       "11295  0.2061  ...  0.3174  0.4838  0.2843  NaN  0.3790  0.4730  0.4753   \n",
       "11296  0.1967  ...  0.2627  0.2769  0.1956  NaN  0.1590  0.3577  0.3272   \n",
       "11297  0.1927  ...  0.1562  0.1554  0.1581  NaN  0.1512  0.1602  0.3670   \n",
       "11298  0.1930  ...  0.1645  0.1945  0.1680  NaN  0.2586     NaN  0.3687   \n",
       "11299  0.1967  ...  0.1959  0.1893  0.1552  NaN  0.2517     NaN  0.2795   \n",
       "\n",
       "          344     345     346  \n",
       "0      0.3702  0.4172  0.4218  \n",
       "1      0.3621     NaN  0.4294  \n",
       "2      0.3750     NaN  0.4099  \n",
       "3      0.3586     NaN  0.4326  \n",
       "4      0.3273     NaN  0.4228  \n",
       "...       ...     ...     ...  \n",
       "11295  0.3612  0.4667  0.4319  \n",
       "11296  0.6130  0.8339  0.6045  \n",
       "11297  0.6244  0.8663  0.7845  \n",
       "11298  0.5850  0.5896  0.7060  \n",
       "11299  0.4637  0.5596  0.5283  \n",
       "\n",
       "[11300 rows x 347 columns]"
      ]
     },
     "execution_count": 4,
     "metadata": {},
     "output_type": "execute_result"
    }
   ],
   "source": [
    "data"
   ]
  },
  {
   "cell_type": "code",
   "execution_count": 5,
   "id": "0cb51a86",
   "metadata": {},
   "outputs": [],
   "source": [
    "def inpaint_nans(data):\n",
    "    \"\"\"\n",
    "    Inpaint NaNs in a DataFrame using linear interpolation.\n",
    "    \"\"\"\n",
    "    return data.interpolate(method='linear', limit_direction='both', axis=0)"
   ]
  },
  {
   "cell_type": "code",
   "execution_count": 7,
   "id": "b30bd4c8",
   "metadata": {},
   "outputs": [],
   "source": [
    "testSeries = data.iloc[0]"
   ]
  },
  {
   "cell_type": "code",
   "execution_count": 9,
   "id": "bb05b0d2",
   "metadata": {},
   "outputs": [],
   "source": [
    "testSeries = inpaint_nans(testSeries)"
   ]
  },
  {
   "cell_type": "code",
   "execution_count": 11,
   "id": "f6e9fb34",
   "metadata": {},
   "outputs": [
    {
     "data": {
      "text/plain": [
       "[<matplotlib.lines.Line2D at 0x7f7125fd1590>]"
      ]
     },
     "execution_count": 11,
     "metadata": {},
     "output_type": "execute_result"
    },
    {
     "data": {
      "image/png": "[encoded data removed]",
      "text/plain": [
       "<Figure size 640x480 with 1 Axes>"
      ]
     },
     "metadata": {},
     "output_type": "display_data"
    }
   ],
   "source": [
    "plt.plot(testSeries)"
   ]
  },
  {
   "cell_type": "code",
   "execution_count": null,
   "id": "f0800985",
   "metadata": {},
   "outputs": [],
   "source": [
    "coords = {'timeSerieslength': np.arange(len(testSeries)),\n",
    "          'samplesPerYear': 23}"
   ]
  },
  {
   "cell_type": "code",
   "execution_count": null,
   "id": "d015a43b",
   "metadata": {},
   "outputs": [],
   "source": [
    "with pm.Model(coords=coords) as model:\n",
    "    x = pm.Uniform(\"x\", lower=0, upper=1, shape='samplesPeryear')\n",
    "\n"
   ]
  },
  {
   "cell_type": "code",
   "execution_count": null,
   "id": "6c1789af",
   "metadata": {},
   "outputs": [],
   "source": [
    "#%% Model definition\n",
    "basic_model = pm.Model()\n",
    "samplesPerYear = 23 #Number of datapoints per year\n",
    "sigma_err_prior = 1/0.05 #Estimate of EVI error variance\n",
    "dummyData = np.zeros([0])\n",
    "shared_data = T.shared(dummyData, borrow=True) #Sahred data definition - Theano\n",
    "\n",
    "#%% Model definition\n",
    "with basic_model:\n",
    "        ## prior for 15-day EVI, U(0-1)\n",
    "        x = pm.Uniform(\"x\", 0, 1, shape=samplesPerYear)\n",
    "        x = Tensor.cast(x, 'float64') #required for theano\n",
    "        \n",
    "        ## prior for observation process, Exp(sigma_err_prior)\n",
    "        sigma_err = pm.Exponential(\"sigma_err\", sigma_err_prior)\n",
    "\n",
    "        @T.compile.ops.as_op(itypes=[Tensor.dvector],otypes=[Tensor.dvector]) #original\n",
    "        def loredo(x = x, profile=True):\n",
    "            L = shared_data.get_value(borrow=True).shape[0]\n",
    "            out = np.zeros(L)\n",
    "            k = 0\n",
    "            while True:\n",
    "                if (k+1)*samplesPerYear < L:\n",
    "                    out[k*samplesPerYear:(k+1)*samplesPerYear] = x[0:samplesPerYear]\n",
    "                    k = k+1\n",
    "                else:\n",
    "                    diff = (k+1)*samplesPerYear - L\n",
    "                    out[k*samplesPerYear:(k+1)*samplesPerYear-diff] = x[0:samplesPerYear-diff]\n",
    "                    break\n",
    "            return out  \n",
    "        loredo.grad = lambda *y: y[0]  # Here's the klutz, llama al grad pero es un bug\n",
    "        loredo.shape = shared_data.get_value(borrow=True).shape[0]    \n",
    "               \n",
    "        ## likelihood\n",
    "        observation = pm.Normal(\"obs\", mu=loredo(x), tau=1/sigma_err, observed=shared_data)"
   ]
  },
  {
   "cell_type": "code",
   "execution_count": null,
   "id": "175ace1c",
   "metadata": {},
   "outputs": [],
   "source": []
  },
  {
   "cell_type": "code",
   "execution_count": 127,
   "id": "0beb245f",
   "metadata": {},
   "outputs": [],
   "source": [
    "def loredo_det(x, t, samplesPerYear):\n",
    "    L = t\n",
    "    out = np.zeros(L)\n",
    "    k = 0\n",
    "    while True:\n",
    "        if (k+1)*samplesPerYear < L:\n",
    "            # print(k*samplesPerYear)\n",
    "            # print((k+1)*samplesPerYear)\n",
    "            out[k*samplesPerYear:(k+1)*samplesPerYear] = x[0:samplesPerYear]\n",
    "            k = k+1\n",
    "        else:\n",
    "            diff = (k+1)*samplesPerYear - L\n",
    "            # print(k*samplesPerYear)\n",
    "            # print((k+1)*samplesPerYear-diff)\n",
    "            out[k*samplesPerYear:(k+1)*samplesPerYear-diff] = x[0:samplesPerYear-diff]\n",
    "            break         \n",
    "    return out  "
   ]
  },
  {
   "cell_type": "code",
   "execution_count": 128,
   "id": "4e9f56f8",
   "metadata": {},
   "outputs": [],
   "source": [
    "t = 200\n",
    "x = testSeries[:23]\n",
    "samplesPerYear = 23\n",
    "aux = loredo_det(x, t, samplesPerYear)"
   ]
  },
  {
   "cell_type": "code",
   "execution_count": 129,
   "id": "105e82f6",
   "metadata": {},
   "outputs": [
    {
     "data": {
      "text/plain": [
       "[<matplotlib.lines.Line2D at 0x7f70bcb12090>]"
      ]
     },
     "execution_count": 129,
     "metadata": {},
     "output_type": "execute_result"
    },
    {
     "data": {
      "image/png": "[encoded data removed]",
      "text/plain": [
       "<Figure size 640x480 with 1 Axes>"
      ]
     },
     "metadata": {},
     "output_type": "display_data"
    }
   ],
   "source": [
    "plt.plot(aux)"
   ]
  },
  {
   "cell_type": "code",
   "execution_count": 125,
   "id": "ee6a5729",
   "metadata": {},
   "outputs": [],
   "source": [
    "# #%% Model definition\n",
    "# with pm.Model() as model:\n",
    "#         ## prior for 15-day EVI, U(0-1)\n",
    "#         x = pm.Uniform(\"x\", 0, 1, shape=samplesPerYear)\n",
    "#         # print(x[0:4].eval())\n",
    "#         # print(samplesPerYear)\n",
    "#         y = loredo_det(x, t, samplesPerYear)"
   ]
  },
  {
   "cell_type": "code",
   "execution_count": 131,
   "id": "e23c893e",
   "metadata": {},
   "outputs": [
    {
     "data": {
      "text/plain": [
       "[<matplotlib.lines.Line2D at 0x7f71d192f110>]"
      ]
     },
     "execution_count": 131,
     "metadata": {},
     "output_type": "execute_result"
    },
    {
     "data": {
      "image/png": "[encoded data removed]",
      "text/plain": [
       "<Figure size 640x480 with 1 Axes>"
      ]
     },
     "metadata": {},
     "output_type": "display_data"
    }
   ],
   "source": [
    "plt.plot(testSeries)"
   ]
  },
  {
   "cell_type": "code",
   "execution_count": 143,
   "id": "52159df5",
   "metadata": {},
   "outputs": [],
   "source": [
    "t = len(testSeries)"
   ]
  },
  {
   "cell_type": "code",
   "execution_count": 144,
   "id": "2ee2b8ac",
   "metadata": {},
   "outputs": [
    {
     "data": {
      "text/plain": [
       "347"
      ]
     },
     "execution_count": 144,
     "metadata": {},
     "output_type": "execute_result"
    }
   ],
   "source": [
    "len(testSeries)"
   ]
  },
  {
   "cell_type": "code",
   "execution_count": 190,
   "id": "cc568eb7",
   "metadata": {},
   "outputs": [],
   "source": [
    "t = len(testSeries)"
   ]
  },
  {
   "cell_type": "markdown",
   "id": "f26d5d12",
   "metadata": {},
   "source": [
    "datos de entrenamiento"
   ]
  },
  {
   "cell_type": "code",
   "execution_count": 217,
   "id": "1f52be2c",
   "metadata": {},
   "outputs": [],
   "source": [
    "trainData = testSeries[:100]\n",
    "t = len(trainData)"
   ]
  },
  {
   "cell_type": "markdown",
   "id": "554a6988",
   "metadata": {},
   "source": [
    "version concat (esta anda)"
   ]
  },
  {
   "cell_type": "code",
   "execution_count": 288,
   "id": "e107fb77",
   "metadata": {},
   "outputs": [],
   "source": [
    "#%% Model definition\n",
    "sigma_err = 0.025\n",
    "\n",
    "with pm.Model() as model:\n",
    "        ## prior for 15-day EVI, U(0-1)\n",
    "        x = pm.Uniform(\"x\", 0, 1, shape=samplesPerYear)\n",
    "        # y = pm.Uniform(\"y\", 0, 1, shape=0)\n",
    "        y = []\n",
    "        # print(x[0:4].eval())\n",
    "        # print(samplesPerYear)\n",
    "\n",
    "        ciclos = (t) // (samplesPerYear)\n",
    "        resto = (t) % (samplesPerYear)\n",
    "\n",
    "        # print(ciclos)\n",
    "        # print(resto)\n",
    "\n",
    "        for i in range(ciclos):\n",
    "            # y = pm.math.concatenate([y, x], axis=0) \n",
    "            y = pm.math.concatenate([y, x], axis=0) \n",
    "        \n",
    "        y = pm.math.concatenate([y, x[0:resto]], axis=0)\n",
    "        # print(x.shape.eval())\n",
    "        obs = pm.Normal(\"obs\", mu=y, sigma=sigma_err, observed=trainData)\n",
    "\n",
    "        "
   ]
  },
  {
   "cell_type": "code",
   "execution_count": 289,
   "id": "2850537d",
   "metadata": {},
   "outputs": [
    {
     "name": "stdout",
     "output_type": "stream",
     "text": [
      "[100]\n"
     ]
    }
   ],
   "source": [
    "with model:\n",
    "    print(y.shape.eval())"
   ]
  },
  {
   "cell_type": "code",
   "execution_count": 290,
   "id": "2a59bfc0",
   "metadata": {},
   "outputs": [
    {
     "name": "stderr",
     "output_type": "stream",
     "text": [
      "Sampling: [obs, x]\n"
     ]
    }
   ],
   "source": [
    "with model:\n",
    "    pm.sample_prior_predictive()"
   ]
  },
  {
   "cell_type": "code",
   "execution_count": 291,
   "id": "90e74ad1",
   "metadata": {},
   "outputs": [
    {
     "name": "stderr",
     "output_type": "stream",
     "text": [
      "Auto-assigning NUTS sampler...\n",
      "Initializing NUTS using jitter+adapt_diag...\n",
      "Multiprocess sampling (4 chains in 4 jobs)\n",
      "NUTS: [x]\n"
     ]
    },
    {
     "data": {
      "text/html": [
       "\n",
       "<style>\n",
       "    /* Turns off some styling */\n",
       "    progress {\n",
       "        /* gets rid of default border in Firefox and Opera. */\n",
       "        border: none;\n",
       "        /* Needs to be in here for Safari polyfill so background images work as expected. */\n",
       "        background-size: auto;\n",
       "    }\n",
       "    progress:not([value]), progress:not([value])::-webkit-progress-bar {\n",
       "        background: repeating-linear-gradient(45deg, #7e7e7e, #7e7e7e 10px, #5c5c5c 10px, #5c5c5c 20px);\n",
       "    }\n",
       "    .progress-bar-interrupted, .progress-bar-interrupted::-webkit-progress-bar {\n",
       "        background: #F44336;\n",
       "    }\n",
       "</style>\n"
      ],
      "text/plain": [
       "<IPython.core.display.HTML object>"
      ]
     },
     "metadata": {},
     "output_type": "display_data"
    },
    {
     "data": {
      "text/html": [
       "\n",
       "    <div>\n",
       "      <progress value='8000' class='' max='8000' style='width:300px; height:20px; vertical-align: middle;'></progress>\n",
       "      100.00% [8000/8000 00:00&lt;00:00 Sampling 4 chains, 0 divergences]\n",
       "    </div>\n",
       "    "
      ],
      "text/plain": [
       "<IPython.core.display.HTML object>"
      ]
     },
     "metadata": {},
     "output_type": "display_data"
    },
    {
     "name": "stderr",
     "output_type": "stream",
     "text": [
      "Sampling 4 chains for 1_000 tune and 1_000 draw iterations (4_000 + 4_000 draws total) took 1 seconds.\n"
     ]
    }
   ],
   "source": [
    "with model:\n",
    "    trace = pm.sample()"
   ]
  },
  {
   "cell_type": "code",
   "execution_count": 292,
   "id": "62a48404",
   "metadata": {},
   "outputs": [
    {
     "data": {
      "text/html": [
       "<div><svg style=\"position: absolute; width: 0; height: 0; overflow: hidden\">\n",
       "<defs>\n",
       "<symbol id=\"icon-database\" viewBox=\"0 0 32 32\">\n",
       "<path d=\"M16 0c-8.837 0-16 2.239-16 5v4c0 2.761 7.163 5 16 5s16-2.239 16-5v-4c0-2.761-7.163-5-16-5z\"></path>\n",
       "<path d=\"M16 17c-8.837 0-16-2.239-16-5v6c0 2.761 7.163 5 16 5s16-2.239 16-5v-6c0 2.761-7.163 5-16 5z\"></path>\n",
       "<path d=\"M16 26c-8.837 0-16-2.239-16-5v6c0 2.761 7.163 5 16 5s16-2.239 16-5v-6c0 2.761-7.163 5-16 5z\"></path>\n",
       "</symbol>\n",
       "<symbol id=\"icon-file-text2\" viewBox=\"0 0 32 32\">\n",
       "<path d=\"M28.681 7.159c-0.694-0.947-1.662-2.053-2.724-3.116s-2.169-2.030-3.116-2.724c-1.612-1.182-2.393-1.319-2.841-1.319h-15.5c-1.378 0-2.5 1.121-2.5 2.5v27c0 1.378 1.122 2.5 2.5 2.5h23c1.378 0 2.5-1.122 2.5-2.5v-19.5c0-0.448-0.137-1.23-1.319-2.841zM24.543 5.457c0.959 0.959 1.712 1.825 2.268 2.543h-4.811v-4.811c0.718 0.556 1.584 1.309 2.543 2.268zM28 29.5c0 0.271-0.229 0.5-0.5 0.5h-23c-0.271 0-0.5-0.229-0.5-0.5v-27c0-0.271 0.229-0.5 0.5-0.5 0 0 15.499-0 15.5 0v7c0 0.552 0.448 1 1 1h7v19.5z\"></path>\n",
       "<path d=\"M23 26h-14c-0.552 0-1-0.448-1-1s0.448-1 1-1h14c0.552 0 1 0.448 1 1s-0.448 1-1 1z\"></path>\n",
       "<path d=\"M23 22h-14c-0.552 0-1-0.448-1-1s0.448-1 1-1h14c0.552 0 1 0.448 1 1s-0.448 1-1 1z\"></path>\n",
       "<path d=\"M23 18h-14c-0.552 0-1-0.448-1-1s0.448-1 1-1h14c0.552 0 1 0.448 1 1s-0.448 1-1 1z\"></path>\n",
       "</symbol>\n",
       "</defs>\n",
       "</svg>\n",
       "<style>/* CSS stylesheet for displaying xarray objects in jupyterlab.\n",
       " *\n",
       " */\n",
       "\n",
       ":root {\n",
       "  --xr-font-color0: var(--jp-content-font-color0, rgba(0, 0, 0, 1));\n",
       "  --xr-font-color2: var(--jp-content-font-color2, rgba(0, 0, 0, 0.54));\n",
       "  --xr-font-color3: var(--jp-content-font-color3, rgba(0, 0, 0, 0.38));\n",
       "  --xr-border-color: var(--jp-border-color2, #e0e0e0);\n",
       "  --xr-disabled-color: var(--jp-layout-color3, #bdbdbd);\n",
       "  --xr-background-color: var(--jp-layout-color0, white);\n",
       "  --xr-background-color-row-even: var(--jp-layout-color1, white);\n",
       "  --xr-background-color-row-odd: var(--jp-layout-color2, #eeeeee);\n",
       "}\n",
       "\n",
       "html[theme=dark],\n",
       "body[data-theme=dark],\n",
       "body.vscode-dark {\n",
       "  --xr-font-color0: rgba(255, 255, 255, 1);\n",
       "  --xr-font-color2: rgba(255, 255, 255, 0.54);\n",
       "  --xr-font-color3: rgba(255, 255, 255, 0.38);\n",
       "  --xr-border-color: #1F1F1F;\n",
       "  --xr-disabled-color: #515151;\n",
       "  --xr-background-color: #111111;\n",
       "  --xr-background-color-row-even: #111111;\n",
       "  --xr-background-color-row-odd: #313131;\n",
       "}\n",
       "\n",
       ".xr-wrap {\n",
       "  display: block !important;\n",
       "  min-width: 300px;\n",
       "  max-width: 700px;\n",
       "}\n",
       "\n",
       ".xr-text-repr-fallback {\n",
       "  /* fallback to plain text repr when CSS is not injected (untrusted notebook) */\n",
       "  display: none;\n",
       "}\n",
       "\n",
       ".xr-header {\n",
       "  padding-top: 6px;\n",
       "  padding-bottom: 6px;\n",
       "  margin-bottom: 4px;\n",
       "  border-bottom: solid 1px var(--xr-border-color);\n",
       "}\n",
       "\n",
       ".xr-header > div,\n",
       ".xr-header > ul {\n",
       "  display: inline;\n",
       "  margin-top: 0;\n",
       "  margin-bottom: 0;\n",
       "}\n",
       "\n",
       ".xr-obj-type,\n",
       ".xr-array-name {\n",
       "  margin-left: 2px;\n",
       "  margin-right: 10px;\n",
       "}\n",
       "\n",
       ".xr-obj-type {\n",
       "  color: var(--xr-font-color2);\n",
       "}\n",
       "\n",
       ".xr-sections {\n",
       "  padding-left: 0 !important;\n",
       "  display: grid;\n",
       "  grid-template-columns: 150px auto auto 1fr 20px 20px;\n",
       "}\n",
       "\n",
       ".xr-section-item {\n",
       "  display: contents;\n",
       "}\n",
       "\n",
       ".xr-section-item input {\n",
       "  display: none;\n",
       "}\n",
       "\n",
       ".xr-section-item input + label {\n",
       "  color: var(--xr-disabled-color);\n",
       "}\n",
       "\n",
       ".xr-section-item input:enabled + label {\n",
       "  cursor: pointer;\n",
       "  color: var(--xr-font-color2);\n",
       "}\n",
       "\n",
       ".xr-section-item input:enabled + label:hover {\n",
       "  color: var(--xr-font-color0);\n",
       "}\n",
       "\n",
       ".xr-section-summary {\n",
       "  grid-column: 1;\n",
       "  color: var(--xr-font-color2);\n",
       "  font-weight: 500;\n",
       "}\n",
       "\n",
       ".xr-section-summary > span {\n",
       "  display: inline-block;\n",
       "  padding-left: 0.5em;\n",
       "}\n",
       "\n",
       ".xr-section-summary-in:disabled + label {\n",
       "  color: var(--xr-font-color2);\n",
       "}\n",
       "\n",
       ".xr-section-summary-in + label:before {\n",
       "  display: inline-block;\n",
       "  content: '►';\n",
       "  font-size: 11px;\n",
       "  width: 15px;\n",
       "  text-align: center;\n",
       "}\n",
       "\n",
       ".xr-section-summary-in:disabled + label:before {\n",
       "  color: var(--xr-disabled-color);\n",
       "}\n",
       "\n",
       ".xr-section-summary-in:checked + label:before {\n",
       "  content: '▼';\n",
       "}\n",
       "\n",
       ".xr-section-summary-in:checked + label > span {\n",
       "  display: none;\n",
       "}\n",
       "\n",
       ".xr-section-summary,\n",
       ".xr-section-inline-details {\n",
       "  padding-top: 4px;\n",
       "  padding-bottom: 4px;\n",
       "}\n",
       "\n",
       ".xr-section-inline-details {\n",
       "  grid-column: 2 / -1;\n",
       "}\n",
       "\n",
       ".xr-section-details {\n",
       "  display: none;\n",
       "  grid-column: 1 / -1;\n",
       "  margin-bottom: 5px;\n",
       "}\n",
       "\n",
       ".xr-section-summary-in:checked ~ .xr-section-details {\n",
       "  display: contents;\n",
       "}\n",
       "\n",
       ".xr-array-wrap {\n",
       "  grid-column: 1 / -1;\n",
       "  display: grid;\n",
       "  grid-template-columns: 20px auto;\n",
       "}\n",
       "\n",
       ".xr-array-wrap > label {\n",
       "  grid-column: 1;\n",
       "  vertical-align: top;\n",
       "}\n",
       "\n",
       ".xr-preview {\n",
       "  color: var(--xr-font-color3);\n",
       "}\n",
       "\n",
       ".xr-array-preview,\n",
       ".xr-array-data {\n",
       "  padding: 0 5px !important;\n",
       "  grid-column: 2;\n",
       "}\n",
       "\n",
       ".xr-array-data,\n",
       ".xr-array-in:checked ~ .xr-array-preview {\n",
       "  display: none;\n",
       "}\n",
       "\n",
       ".xr-array-in:checked ~ .xr-array-data,\n",
       ".xr-array-preview {\n",
       "  display: inline-block;\n",
       "}\n",
       "\n",
       ".xr-dim-list {\n",
       "  display: inline-block !important;\n",
       "  list-style: none;\n",
       "  padding: 0 !important;\n",
       "  margin: 0;\n",
       "}\n",
       "\n",
       ".xr-dim-list li {\n",
       "  display: inline-block;\n",
       "  padding: 0;\n",
       "  margin: 0;\n",
       "}\n",
       "\n",
       ".xr-dim-list:before {\n",
       "  content: '(';\n",
       "}\n",
       "\n",
       ".xr-dim-list:after {\n",
       "  content: ')';\n",
       "}\n",
       "\n",
       ".xr-dim-list li:not(:last-child):after {\n",
       "  content: ',';\n",
       "  padding-right: 5px;\n",
       "}\n",
       "\n",
       ".xr-has-index {\n",
       "  font-weight: bold;\n",
       "}\n",
       "\n",
       ".xr-var-list,\n",
       ".xr-var-item {\n",
       "  display: contents;\n",
       "}\n",
       "\n",
       ".xr-var-item > div,\n",
       ".xr-var-item label,\n",
       ".xr-var-item > .xr-var-name span {\n",
       "  background-color: var(--xr-background-color-row-even);\n",
       "  margin-bottom: 0;\n",
       "}\n",
       "\n",
       ".xr-var-item > .xr-var-name:hover span {\n",
       "  padding-right: 5px;\n",
       "}\n",
       "\n",
       ".xr-var-list > li:nth-child(odd) > div,\n",
       ".xr-var-list > li:nth-child(odd) > label,\n",
       ".xr-var-list > li:nth-child(odd) > .xr-var-name span {\n",
       "  background-color: var(--xr-background-color-row-odd);\n",
       "}\n",
       "\n",
       ".xr-var-name {\n",
       "  grid-column: 1;\n",
       "}\n",
       "\n",
       ".xr-var-dims {\n",
       "  grid-column: 2;\n",
       "}\n",
       "\n",
       ".xr-var-dtype {\n",
       "  grid-column: 3;\n",
       "  text-align: right;\n",
       "  color: var(--xr-font-color2);\n",
       "}\n",
       "\n",
       ".xr-var-preview {\n",
       "  grid-column: 4;\n",
       "}\n",
       "\n",
       ".xr-index-preview {\n",
       "  grid-column: 2 / 5;\n",
       "  color: var(--xr-font-color2);\n",
       "}\n",
       "\n",
       ".xr-var-name,\n",
       ".xr-var-dims,\n",
       ".xr-var-dtype,\n",
       ".xr-preview,\n",
       ".xr-attrs dt {\n",
       "  white-space: nowrap;\n",
       "  overflow: hidden;\n",
       "  text-overflow: ellipsis;\n",
       "  padding-right: 10px;\n",
       "}\n",
       "\n",
       ".xr-var-name:hover,\n",
       ".xr-var-dims:hover,\n",
       ".xr-var-dtype:hover,\n",
       ".xr-attrs dt:hover {\n",
       "  overflow: visible;\n",
       "  width: auto;\n",
       "  z-index: 1;\n",
       "}\n",
       "\n",
       ".xr-var-attrs,\n",
       ".xr-var-data,\n",
       ".xr-index-data {\n",
       "  display: none;\n",
       "  background-color: var(--xr-background-color) !important;\n",
       "  padding-bottom: 5px !important;\n",
       "}\n",
       "\n",
       ".xr-var-attrs-in:checked ~ .xr-var-attrs,\n",
       ".xr-var-data-in:checked ~ .xr-var-data,\n",
       ".xr-index-data-in:checked ~ .xr-index-data {\n",
       "  display: block;\n",
       "}\n",
       "\n",
       ".xr-var-data > table {\n",
       "  float: right;\n",
       "}\n",
       "\n",
       ".xr-var-name span,\n",
       ".xr-var-data,\n",
       ".xr-index-name div,\n",
       ".xr-index-data,\n",
       ".xr-attrs {\n",
       "  padding-left: 25px !important;\n",
       "}\n",
       "\n",
       ".xr-attrs,\n",
       ".xr-var-attrs,\n",
       ".xr-var-data,\n",
       ".xr-index-data {\n",
       "  grid-column: 1 / -1;\n",
       "}\n",
       "\n",
       "dl.xr-attrs {\n",
       "  padding: 0;\n",
       "  margin: 0;\n",
       "  display: grid;\n",
       "  grid-template-columns: 125px auto;\n",
       "}\n",
       "\n",
       ".xr-attrs dt,\n",
       ".xr-attrs dd {\n",
       "  padding: 0;\n",
       "  margin: 0;\n",
       "  float: left;\n",
       "  padding-right: 10px;\n",
       "  width: auto;\n",
       "}\n",
       "\n",
       ".xr-attrs dt {\n",
       "  font-weight: normal;\n",
       "  grid-column: 1;\n",
       "}\n",
       "\n",
       ".xr-attrs dt:hover span {\n",
       "  display: inline-block;\n",
       "  background: var(--xr-background-color);\n",
       "  padding-right: 10px;\n",
       "}\n",
       "\n",
       ".xr-attrs dd {\n",
       "  grid-column: 2;\n",
       "  white-space: pre-wrap;\n",
       "  word-break: break-all;\n",
       "}\n",
       "\n",
       ".xr-icon-database,\n",
       ".xr-icon-file-text2,\n",
       ".xr-no-icon {\n",
       "  display: inline-block;\n",
       "  vertical-align: middle;\n",
       "  width: 1em;\n",
       "  height: 1.5em !important;\n",
       "  stroke-width: 0;\n",
       "  stroke: currentColor;\n",
       "  fill: currentColor;\n",
       "}\n",
       "</style><pre class='xr-text-repr-fallback'>&lt;xarray.DataArray &#x27;x&#x27; (chain: 4, draw: 1000, x_dim_0: 23)&gt;\n",
       "array([[[0.42439135, 0.40148438, 0.3920626 , ..., 0.40614178,\n",
       "         0.39518126, 0.42303167],\n",
       "        [0.41274705, 0.3790775 , 0.37026209, ..., 0.41262777,\n",
       "         0.42225172, 0.38926892],\n",
       "        [0.4234813 , 0.39478244, 0.39940599, ..., 0.39510849,\n",
       "         0.38869474, 0.42543065],\n",
       "        ...,\n",
       "        [0.41442598, 0.38914047, 0.38551501, ..., 0.42030067,\n",
       "         0.40427175, 0.41176257],\n",
       "        [0.397057  , 0.39046396, 0.38565027, ..., 0.40919005,\n",
       "         0.40859465, 0.4094332 ],\n",
       "        [0.40600063, 0.39800272, 0.36442217, ..., 0.40364115,\n",
       "         0.42742227, 0.39499306]],\n",
       "\n",
       "       [[0.41801091, 0.38934217, 0.38609507, ..., 0.42296017,\n",
       "         0.41332466, 0.39867446],\n",
       "        [0.41569656, 0.38849797, 0.38158623, ..., 0.40062773,\n",
       "         0.39711489, 0.4115117 ],\n",
       "        [0.41525518, 0.3979609 , 0.39294584, ..., 0.41034454,\n",
       "         0.39319274, 0.40892716],\n",
       "...\n",
       "        [0.44111127, 0.38789516, 0.4020712 , ..., 0.39486394,\n",
       "         0.4087057 , 0.44247331],\n",
       "        [0.39672772, 0.38413297, 0.36909497, ..., 0.38590401,\n",
       "         0.41696806, 0.37437914],\n",
       "        [0.43292472, 0.40465314, 0.3621877 , ..., 0.38551143,\n",
       "         0.39258709, 0.41857171]],\n",
       "\n",
       "       [[0.41836016, 0.38815979, 0.37711352, ..., 0.38968088,\n",
       "         0.39530035, 0.41968984],\n",
       "        [0.42899464, 0.38853086, 0.38068507, ..., 0.38430878,\n",
       "         0.39774987, 0.42062121],\n",
       "        [0.40098718, 0.39416686, 0.387664  , ..., 0.43275706,\n",
       "         0.41037192, 0.39075309],\n",
       "        ...,\n",
       "        [0.41472334, 0.39289258, 0.38512711, ..., 0.43022186,\n",
       "         0.39003369, 0.41853685],\n",
       "        [0.42438736, 0.38668652, 0.38056068, ..., 0.38696893,\n",
       "         0.4272024 , 0.39437777],\n",
       "        [0.42643919, 0.39392402, 0.38840727, ..., 0.41264156,\n",
       "         0.41616671, 0.4215377 ]]])\n",
       "Coordinates:\n",
       "  * chain    (chain) int64 0 1 2 3\n",
       "  * draw     (draw) int64 0 1 2 3 4 5 6 7 8 ... 992 993 994 995 996 997 998 999\n",
       "  * x_dim_0  (x_dim_0) int64 0 1 2 3 4 5 6 7 8 9 ... 14 15 16 17 18 19 20 21 22</pre><div class='xr-wrap' style='display:none'><div class='xr-header'><div class='xr-obj-type'>xarray.DataArray</div><div class='xr-array-name'>'x'</div><ul class='xr-dim-list'><li><span class='xr-has-index'>chain</span>: 4</li><li><span class='xr-has-index'>draw</span>: 1000</li><li><span class='xr-has-index'>x_dim_0</span>: 23</li></ul></div><ul class='xr-sections'><li class='xr-section-item'><div class='xr-array-wrap'><input id='section-b4db7915-8736-48f3-81c9-7c6216f219c3' class='xr-array-in' type='checkbox' checked><label for='section-b4db7915-8736-48f3-81c9-7c6216f219c3' title='Show/hide data repr'><svg class='icon xr-icon-database'><use xlink:href='#icon-database'></use></svg></label><div class='xr-array-preview xr-preview'><span>0.4244 0.4015 0.3921 0.3496 0.3352 ... 0.4196 0.4126 0.4162 0.4215</span></div><div class='xr-array-data'><pre>array([[[0.42439135, 0.40148438, 0.3920626 , ..., 0.40614178,\n",
       "         0.39518126, 0.42303167],\n",
       "        [0.41274705, 0.3790775 , 0.37026209, ..., 0.41262777,\n",
       "         0.42225172, 0.38926892],\n",
       "        [0.4234813 , 0.39478244, 0.39940599, ..., 0.39510849,\n",
       "         0.38869474, 0.42543065],\n",
       "        ...,\n",
       "        [0.41442598, 0.38914047, 0.38551501, ..., 0.42030067,\n",
       "         0.40427175, 0.41176257],\n",
       "        [0.397057  , 0.39046396, 0.38565027, ..., 0.40919005,\n",
       "         0.40859465, 0.4094332 ],\n",
       "        [0.40600063, 0.39800272, 0.36442217, ..., 0.40364115,\n",
       "         0.42742227, 0.39499306]],\n",
       "\n",
       "       [[0.41801091, 0.38934217, 0.38609507, ..., 0.42296017,\n",
       "         0.41332466, 0.39867446],\n",
       "        [0.41569656, 0.38849797, 0.38158623, ..., 0.40062773,\n",
       "         0.39711489, 0.4115117 ],\n",
       "        [0.41525518, 0.3979609 , 0.39294584, ..., 0.41034454,\n",
       "         0.39319274, 0.40892716],\n",
       "...\n",
       "        [0.44111127, 0.38789516, 0.4020712 , ..., 0.39486394,\n",
       "         0.4087057 , 0.44247331],\n",
       "        [0.39672772, 0.38413297, 0.36909497, ..., 0.38590401,\n",
       "         0.41696806, 0.37437914],\n",
       "        [0.43292472, 0.40465314, 0.3621877 , ..., 0.38551143,\n",
       "         0.39258709, 0.41857171]],\n",
       "\n",
       "       [[0.41836016, 0.38815979, 0.37711352, ..., 0.38968088,\n",
       "         0.39530035, 0.41968984],\n",
       "        [0.42899464, 0.38853086, 0.38068507, ..., 0.38430878,\n",
       "         0.39774987, 0.42062121],\n",
       "        [0.40098718, 0.39416686, 0.387664  , ..., 0.43275706,\n",
       "         0.41037192, 0.39075309],\n",
       "        ...,\n",
       "        [0.41472334, 0.39289258, 0.38512711, ..., 0.43022186,\n",
       "         0.39003369, 0.41853685],\n",
       "        [0.42438736, 0.38668652, 0.38056068, ..., 0.38696893,\n",
       "         0.4272024 , 0.39437777],\n",
       "        [0.42643919, 0.39392402, 0.38840727, ..., 0.41264156,\n",
       "         0.41616671, 0.4215377 ]]])</pre></div></div></li><li class='xr-section-item'><input id='section-7fa59be9-1548-4c9e-bbca-2b44782d73bf' class='xr-section-summary-in' type='checkbox'  checked><label for='section-7fa59be9-1548-4c9e-bbca-2b44782d73bf' class='xr-section-summary' >Coordinates: <span>(3)</span></label><div class='xr-section-inline-details'></div><div class='xr-section-details'><ul class='xr-var-list'><li class='xr-var-item'><div class='xr-var-name'><span class='xr-has-index'>chain</span></div><div class='xr-var-dims'>(chain)</div><div class='xr-var-dtype'>int64</div><div class='xr-var-preview xr-preview'>0 1 2 3</div><input id='attrs-5646f2eb-796f-4535-a90d-05164b66eeef' class='xr-var-attrs-in' type='checkbox' disabled><label for='attrs-5646f2eb-796f-4535-a90d-05164b66eeef' title='Show/Hide attributes'><svg class='icon xr-icon-file-text2'><use xlink:href='#icon-file-text2'></use></svg></label><input id='data-3c587998-0812-4e15-b4b4-07402ceeb8c5' class='xr-var-data-in' type='checkbox'><label for='data-3c587998-0812-4e15-b4b4-07402ceeb8c5' title='Show/Hide data repr'><svg class='icon xr-icon-database'><use xlink:href='#icon-database'></use></svg></label><div class='xr-var-attrs'><dl class='xr-attrs'></dl></div><div class='xr-var-data'><pre>array([0, 1, 2, 3])</pre></div></li><li class='xr-var-item'><div class='xr-var-name'><span class='xr-has-index'>draw</span></div><div class='xr-var-dims'>(draw)</div><div class='xr-var-dtype'>int64</div><div class='xr-var-preview xr-preview'>0 1 2 3 4 5 ... 995 996 997 998 999</div><input id='attrs-5c0cdb67-c648-47de-be4f-1c21ba1d1873' class='xr-var-attrs-in' type='checkbox' disabled><label for='attrs-5c0cdb67-c648-47de-be4f-1c21ba1d1873' title='Show/Hide attributes'><svg class='icon xr-icon-file-text2'><use xlink:href='#icon-file-text2'></use></svg></label><input id='data-208a72dd-b2ad-41e9-b01a-456cad32f5d8' class='xr-var-data-in' type='checkbox'><label for='data-208a72dd-b2ad-41e9-b01a-456cad32f5d8' title='Show/Hide data repr'><svg class='icon xr-icon-database'><use xlink:href='#icon-database'></use></svg></label><div class='xr-var-attrs'><dl class='xr-attrs'></dl></div><div class='xr-var-data'><pre>array([  0,   1,   2, ..., 997, 998, 999])</pre></div></li><li class='xr-var-item'><div class='xr-var-name'><span class='xr-has-index'>x_dim_0</span></div><div class='xr-var-dims'>(x_dim_0)</div><div class='xr-var-dtype'>int64</div><div class='xr-var-preview xr-preview'>0 1 2 3 4 5 6 ... 17 18 19 20 21 22</div><input id='attrs-b90e96df-8db6-46a7-852e-404c495cb3f3' class='xr-var-attrs-in' type='checkbox' disabled><label for='attrs-b90e96df-8db6-46a7-852e-404c495cb3f3' title='Show/Hide attributes'><svg class='icon xr-icon-file-text2'><use xlink:href='#icon-file-text2'></use></svg></label><input id='data-22c90ad7-e0ef-4e6e-91c0-634d4131402d' class='xr-var-data-in' type='checkbox'><label for='data-22c90ad7-e0ef-4e6e-91c0-634d4131402d' title='Show/Hide data repr'><svg class='icon xr-icon-database'><use xlink:href='#icon-database'></use></svg></label><div class='xr-var-attrs'><dl class='xr-attrs'></dl></div><div class='xr-var-data'><pre>array([ 0,  1,  2,  3,  4,  5,  6,  7,  8,  9, 10, 11, 12, 13, 14, 15, 16, 17,\n",
       "       18, 19, 20, 21, 22])</pre></div></li></ul></div></li><li class='xr-section-item'><input id='section-c58cd9ad-2393-4458-b259-781bd1e2e8a6' class='xr-section-summary-in' type='checkbox'  ><label for='section-c58cd9ad-2393-4458-b259-781bd1e2e8a6' class='xr-section-summary' >Indexes: <span>(3)</span></label><div class='xr-section-inline-details'></div><div class='xr-section-details'><ul class='xr-var-list'><li class='xr-var-item'><div class='xr-index-name'><div>chain</div></div><div class='xr-index-preview'>PandasIndex</div><div></div><input id='index-8feac323-9b0b-4948-8c96-e6683a27b6cd' class='xr-index-data-in' type='checkbox'/><label for='index-8feac323-9b0b-4948-8c96-e6683a27b6cd' title='Show/Hide index repr'><svg class='icon xr-icon-database'><use xlink:href='#icon-database'></use></svg></label><div class='xr-index-data'><pre>PandasIndex(Index([0, 1, 2, 3], dtype=&#x27;int64&#x27;, name=&#x27;chain&#x27;))</pre></div></li><li class='xr-var-item'><div class='xr-index-name'><div>draw</div></div><div class='xr-index-preview'>PandasIndex</div><div></div><input id='index-e48680fe-cc48-4e82-9e29-eb799bc73460' class='xr-index-data-in' type='checkbox'/><label for='index-e48680fe-cc48-4e82-9e29-eb799bc73460' title='Show/Hide index repr'><svg class='icon xr-icon-database'><use xlink:href='#icon-database'></use></svg></label><div class='xr-index-data'><pre>PandasIndex(Index([  0,   1,   2,   3,   4,   5,   6,   7,   8,   9,\n",
       "       ...\n",
       "       990, 991, 992, 993, 994, 995, 996, 997, 998, 999],\n",
       "      dtype=&#x27;int64&#x27;, name=&#x27;draw&#x27;, length=1000))</pre></div></li><li class='xr-var-item'><div class='xr-index-name'><div>x_dim_0</div></div><div class='xr-index-preview'>PandasIndex</div><div></div><input id='index-b1c793a2-ce47-4b57-9695-4d8642c4f6ba' class='xr-index-data-in' type='checkbox'/><label for='index-b1c793a2-ce47-4b57-9695-4d8642c4f6ba' title='Show/Hide index repr'><svg class='icon xr-icon-database'><use xlink:href='#icon-database'></use></svg></label><div class='xr-index-data'><pre>PandasIndex(Index([ 0,  1,  2,  3,  4,  5,  6,  7,  8,  9, 10, 11, 12, 13, 14, 15, 16, 17,\n",
       "       18, 19, 20, 21, 22],\n",
       "      dtype=&#x27;int64&#x27;, name=&#x27;x_dim_0&#x27;))</pre></div></li></ul></div></li><li class='xr-section-item'><input id='section-18e16685-05e1-4c15-bae2-c7ac521e2155' class='xr-section-summary-in' type='checkbox' disabled ><label for='section-18e16685-05e1-4c15-bae2-c7ac521e2155' class='xr-section-summary'  title='Expand/collapse section'>Attributes: <span>(0)</span></label><div class='xr-section-inline-details'></div><div class='xr-section-details'><dl class='xr-attrs'></dl></div></li></ul></div></div>"
      ],
      "text/plain": [
       "<xarray.DataArray 'x' (chain: 4, draw: 1000, x_dim_0: 23)>\n",
       "array([[[0.42439135, 0.40148438, 0.3920626 , ..., 0.40614178,\n",
       "         0.39518126, 0.42303167],\n",
       "        [0.41274705, 0.3790775 , 0.37026209, ..., 0.41262777,\n",
       "         0.42225172, 0.38926892],\n",
       "        [0.4234813 , 0.39478244, 0.39940599, ..., 0.39510849,\n",
       "         0.38869474, 0.42543065],\n",
       "        ...,\n",
       "        [0.41442598, 0.38914047, 0.38551501, ..., 0.42030067,\n",
       "         0.40427175, 0.41176257],\n",
       "        [0.397057  , 0.39046396, 0.38565027, ..., 0.40919005,\n",
       "         0.40859465, 0.4094332 ],\n",
       "        [0.40600063, 0.39800272, 0.36442217, ..., 0.40364115,\n",
       "         0.42742227, 0.39499306]],\n",
       "\n",
       "       [[0.41801091, 0.38934217, 0.38609507, ..., 0.42296017,\n",
       "         0.41332466, 0.39867446],\n",
       "        [0.41569656, 0.38849797, 0.38158623, ..., 0.40062773,\n",
       "         0.39711489, 0.4115117 ],\n",
       "        [0.41525518, 0.3979609 , 0.39294584, ..., 0.41034454,\n",
       "         0.39319274, 0.40892716],\n",
       "...\n",
       "        [0.44111127, 0.38789516, 0.4020712 , ..., 0.39486394,\n",
       "         0.4087057 , 0.44247331],\n",
       "        [0.39672772, 0.38413297, 0.36909497, ..., 0.38590401,\n",
       "         0.41696806, 0.37437914],\n",
       "        [0.43292472, 0.40465314, 0.3621877 , ..., 0.38551143,\n",
       "         0.39258709, 0.41857171]],\n",
       "\n",
       "       [[0.41836016, 0.38815979, 0.37711352, ..., 0.38968088,\n",
       "         0.39530035, 0.41968984],\n",
       "        [0.42899464, 0.38853086, 0.38068507, ..., 0.38430878,\n",
       "         0.39774987, 0.42062121],\n",
       "        [0.40098718, 0.39416686, 0.387664  , ..., 0.43275706,\n",
       "         0.41037192, 0.39075309],\n",
       "        ...,\n",
       "        [0.41472334, 0.39289258, 0.38512711, ..., 0.43022186,\n",
       "         0.39003369, 0.41853685],\n",
       "        [0.42438736, 0.38668652, 0.38056068, ..., 0.38696893,\n",
       "         0.4272024 , 0.39437777],\n",
       "        [0.42643919, 0.39392402, 0.38840727, ..., 0.41264156,\n",
       "         0.41616671, 0.4215377 ]]])\n",
       "Coordinates:\n",
       "  * chain    (chain) int64 0 1 2 3\n",
       "  * draw     (draw) int64 0 1 2 3 4 5 6 7 8 ... 992 993 994 995 996 997 998 999\n",
       "  * x_dim_0  (x_dim_0) int64 0 1 2 3 4 5 6 7 8 9 ... 14 15 16 17 18 19 20 21 22"
      ]
     },
     "execution_count": 292,
     "metadata": {},
     "output_type": "execute_result"
    }
   ],
   "source": [
    "trace.posterior.x"
   ]
  },
  {
   "cell_type": "code",
   "execution_count": 293,
   "id": "1d0bf58c",
   "metadata": {},
   "outputs": [],
   "source": [
    "stacked = trace.posterior.x.stack(desired=['chain', 'draw']).values"
   ]
  },
  {
   "cell_type": "code",
   "execution_count": 294,
   "id": "2a5fc73d",
   "metadata": {},
   "outputs": [],
   "source": [
    "x_mean = stacked.mean(axis=1)"
   ]
  },
  {
   "cell_type": "code",
   "execution_count": 295,
   "id": "79ee3111",
   "metadata": {},
   "outputs": [],
   "source": [
    "reco = loredo_det(x_mean, t, samplesPerYear)"
   ]
  },
  {
   "cell_type": "code",
   "execution_count": 296,
   "id": "e7dcd729",
   "metadata": {},
   "outputs": [
    {
     "data": {
      "application/vnd.plotly.v1+json": {
       "config": {
        "plotlyServerURL": "https://plot.ly"
       },
       "data": [
        {
         "hovertemplate": "variable=wide_variable_0<br>index=%{x}<br>value=%{y}<extra></extra>",
         "legendgroup": "wide_variable_0",
         "line": {
          "color": "#636efa",
          "dash": "solid"
         },
         "marker": {
          "symbol": "circle"
         },
         "mode": "lines",
         "name": "wide_variable_0",
         "orientation": "v",
         "showlegend": true,
         "type": "scatter",
         "x": [
          0,
          1,
          2,
          3,
          4,
          5,
          6,
          7,
          8,
          9,
          10,
          11,
          12,
          13,
          14,
          15,
          16,
          17,
          18,
          19,
          20,
          21,
          22,
          23,
          24,
          25,
          26,
          27,
          28,
          29,
          30,
          31,
          32,
          33,
          34,
          35,
          36,
          37,
          38,
          39,
          40,
          41,
          42,
          43,
          44,
          45,
          46,
          47,
          48,
          49,
          50,
          51,
          52,
          53,
          54,
          55,
          56,
          57,
          58,
          59,
          60,
          61,
          62,
          63,
          64,
          65,
          66,
          67,
          68,
          69,
          70,
          71,
          72,
          73,
          74,
          75,
          76,
          77,
          78,
          79,
          80,
          81,
          82,
          83,
          84,
          85,
          86,
          87,
          88,
          89,
          90,
          91,
          92,
          93,
          94,
          95,
          96,
          97,
          98,
          99
         ],
         "xaxis": "x",
         "y": [
          0.456,
          0.42675,
          0.3975,
          0.3183,
          0.3022,
          0.287,
          0.2886,
          0.2236,
          0.2318,
          0.1911,
          0.1884,
          0.1802,
          0.1771,
          0.186,
          0.2126,
          0.2303,
          0.3453,
          0.3098,
          0.3683,
          0.37185,
          0.3754,
          0.44,
          0.4012,
          0.4128,
          0.3926,
          0.3562,
          0.3795,
          0.3489,
          0.326,
          0.32015000000000005,
          0.3143,
          0.2615,
          0.2087,
          0.2072,
          0.2075,
          0.1987,
          0.22885,
          0.259,
          0.3406,
          0.3813,
          0.3588,
          0.445,
          0.4374,
          0.4303,
          0.3973,
          0.3792,
          0.4425,
          0.3509,
          0.363,
          0.2793,
          0.3507,
          0.311,
          0.28195000000000003,
          0.2529,
          0.2411,
          0.2302,
          0.2385,
          0.22775,
          0.217,
          0.2392,
          0.3045,
          0.3912,
          0.4314,
          0.4506,
          0.4698,
          0.4376,
          0.4129,
          0.3997,
          0.4332,
          0.3843,
          0.413,
          0.3831,
          0.3659,
          0.35,
          0.3213,
          0.3312,
          0.2785,
          0.2729,
          0.2583,
          0.2412,
          0.2319,
          0.24115,
          0.2504,
          0.3551,
          0.3519,
          0.3872,
          0.3507,
          0.4443,
          0.42974999999999997,
          0.4152,
          0.4025,
          0.4127,
          0.3945,
          0.3625,
          0.4104,
          0.3774,
          0.323,
          0.2991,
          0.2909,
          0.2552
         ],
         "yaxis": "y"
        },
        {
         "hovertemplate": "variable=wide_variable_1<br>index=%{x}<br>value=%{y}<extra></extra>",
         "legendgroup": "wide_variable_1",
         "line": {
          "color": "#EF553B",
          "dash": "solid"
         },
         "marker": {
          "symbol": "circle"
         },
         "mode": "lines",
         "name": "wide_variable_1",
         "orientation": "v",
         "showlegend": true,
         "type": "scatter",
         "x": [
          0,
          1,
          2,
          3,
          4,
          5,
          6,
          7,
          8,
          9,
          10,
          11,
          12,
          13,
          14,
          15,
          16,
          17,
          18,
          19,
          20,
          21,
          22,
          23,
          24,
          25,
          26,
          27,
          28,
          29,
          30,
          31,
          32,
          33,
          34,
          35,
          36,
          37,
          38,
          39,
          40,
          41,
          42,
          43,
          44,
          45,
          46,
          47,
          48,
          49,
          50,
          51,
          52,
          53,
          54,
          55,
          56,
          57,
          58,
          59,
          60,
          61,
          62,
          63,
          64,
          65,
          66,
          67,
          68,
          69,
          70,
          71,
          72,
          73,
          74,
          75,
          76,
          77,
          78,
          79,
          80,
          81,
          82,
          83,
          84,
          85,
          86,
          87,
          88,
          89,
          90,
          91,
          92,
          93,
          94,
          95,
          96,
          97,
          98,
          99
         ],
         "xaxis": "x",
         "y": [
          0.41782582363404897,
          0.38904434485275724,
          0.3819200459368514,
          0.3440394783062315,
          0.33502535425709495,
          0.30886038234103175,
          0.302689133837235,
          0.26479222434538013,
          0.2519129305165916,
          0.2219696799925253,
          0.2188422421604444,
          0.211573587512449,
          0.20843807426227565,
          0.22604505009680648,
          0.2826556592739209,
          0.32835480908051745,
          0.3863789936164668,
          0.3674888086617103,
          0.43157732623699957,
          0.41924543158202765,
          0.40851492360801533,
          0.4099462289119511,
          0.40644416331149863,
          0.41782582363404897,
          0.38904434485275724,
          0.3819200459368514,
          0.3440394783062315,
          0.33502535425709495,
          0.30886038234103175,
          0.302689133837235,
          0.26479222434538013,
          0.2519129305165916,
          0.2219696799925253,
          0.2188422421604444,
          0.211573587512449,
          0.20843807426227565,
          0.22604505009680648,
          0.2826556592739209,
          0.32835480908051745,
          0.3863789936164668,
          0.3674888086617103,
          0.43157732623699957,
          0.41924543158202765,
          0.40851492360801533,
          0.4099462289119511,
          0.40644416331149863,
          0.41782582363404897,
          0.38904434485275724,
          0.3819200459368514,
          0.3440394783062315,
          0.33502535425709495,
          0.30886038234103175,
          0.302689133837235,
          0.26479222434538013,
          0.2519129305165916,
          0.2219696799925253,
          0.2188422421604444,
          0.211573587512449,
          0.20843807426227565,
          0.22604505009680648,
          0.2826556592739209,
          0.32835480908051745,
          0.3863789936164668,
          0.3674888086617103,
          0.43157732623699957,
          0.41924543158202765,
          0.40851492360801533,
          0.4099462289119511,
          0.40644416331149863,
          0.41782582363404897,
          0.38904434485275724,
          0.3819200459368514,
          0.3440394783062315,
          0.33502535425709495,
          0.30886038234103175,
          0.302689133837235,
          0.26479222434538013,
          0.2519129305165916,
          0.2219696799925253,
          0.2188422421604444,
          0.211573587512449,
          0.20843807426227565,
          0.22604505009680648,
          0.2826556592739209,
          0.32835480908051745,
          0.3863789936164668,
          0.3674888086617103,
          0.43157732623699957,
          0.41924543158202765,
          0.40851492360801533,
          0.4099462289119511,
          0.40644416331149863,
          0.41782582363404897,
          0.38904434485275724,
          0.3819200459368514,
          0.3440394783062315,
          0.33502535425709495,
          0.30886038234103175,
          0.302689133837235,
          0.26479222434538013
         ],
         "yaxis": "y"
        }
       ],
       "layout": {
        "legend": {
         "title": {
          "text": "variable"
         },
         "tracegroupgap": 0
        },
        "margin": {
         "t": 60
        },
        "template": {
         "data": {
          "bar": [
           {
            "error_x": {
             "color": "#2a3f5f"
            },
            "error_y": {
             "color": "#2a3f5f"
            },
            "marker": {
             "line": {
              "color": "#E5ECF6",
              "width": 0.5
             },
             "pattern": {
              "fillmode": "overlay",
              "size": 10,
              "solidity": 0.2
             }
            },
            "type": "bar"
           }
          ],
          "barpolar": [
           {
            "marker": {
             "line": {
              "color": "#E5ECF6",
              "width": 0.5
             },
             "pattern": {
              "fillmode": "overlay",
              "size": 10,
              "solidity": 0.2
             }
            },
            "type": "barpolar"
           }
          ],
          "carpet": [
           {
            "aaxis": {
             "endlinecolor": "#2a3f5f",
             "gridcolor": "white",
             "linecolor": "white",
             "minorgridcolor": "white",
             "startlinecolor": "#2a3f5f"
            },
            "baxis": {
             "endlinecolor": "#2a3f5f",
             "gridcolor": "white",
             "linecolor": "white",
             "minorgridcolor": "white",
             "startlinecolor": "#2a3f5f"
            },
            "type": "carpet"
           }
          ],
          "choropleth": [
           {
            "colorbar": {
             "outlinewidth": 0,
             "ticks": ""
            },
            "type": "choropleth"
           }
          ],
          "contour": [
           {
            "colorbar": {
             "outlinewidth": 0,
             "ticks": ""
            },
            "colorscale": [
             [
              0,
              "#0d0887"
             ],
             [
              0.1111111111111111,
              "#46039f"
             ],
             [
              0.2222222222222222,
              "#7201a8"
             ],
             [
              0.3333333333333333,
              "#9c179e"
             ],
             [
              0.4444444444444444,
              "#bd3786"
             ],
             [
              0.5555555555555556,
              "#d8576b"
             ],
             [
              0.6666666666666666,
              "#ed7953"
             ],
             [
              0.7777777777777778,
              "#fb9f3a"
             ],
             [
              0.8888888888888888,
              "#fdca26"
             ],
             [
              1,
              "#f0f921"
             ]
            ],
            "type": "contour"
           }
          ],
          "contourcarpet": [
           {
            "colorbar": {
             "outlinewidth": 0,
             "ticks": ""
            },
            "type": "contourcarpet"
           }
          ],
          "heatmap": [
           {
            "colorbar": {
             "outlinewidth": 0,
             "ticks": ""
            },
            "colorscale": [
             [
              0,
              "#0d0887"
             ],
             [
              0.1111111111111111,
              "#46039f"
             ],
             [
              0.2222222222222222,
              "#7201a8"
             ],
             [
              0.3333333333333333,
              "#9c179e"
             ],
             [
              0.4444444444444444,
              "#bd3786"
             ],
             [
              0.5555555555555556,
              "#d8576b"
             ],
             [
              0.6666666666666666,
              "#ed7953"
             ],
             [
              0.7777777777777778,
              "#fb9f3a"
             ],
             [
              0.8888888888888888,
              "#fdca26"
             ],
             [
              1,
              "#f0f921"
             ]
            ],
            "type": "heatmap"
           }
          ],
          "heatmapgl": [
           {
            "colorbar": {
             "outlinewidth": 0,
             "ticks": ""
            },
            "colorscale": [
             [
              0,
              "#0d0887"
             ],
             [
              0.1111111111111111,
              "#46039f"
             ],
             [
              0.2222222222222222,
              "#7201a8"
             ],
             [
              0.3333333333333333,
              "#9c179e"
             ],
             [
              0.4444444444444444,
              "#bd3786"
             ],
             [
              0.5555555555555556,
              "#d8576b"
             ],
             [
              0.6666666666666666,
              "#ed7953"
             ],
             [
              0.7777777777777778,
              "#fb9f3a"
             ],
             [
              0.8888888888888888,
              "#fdca26"
             ],
             [
              1,
              "#f0f921"
             ]
            ],
            "type": "heatmapgl"
           }
          ],
          "histogram": [
           {
            "marker": {
             "pattern": {
              "fillmode": "overlay",
              "size": 10,
              "solidity": 0.2
             }
            },
            "type": "histogram"
           }
          ],
          "histogram2d": [
           {
            "colorbar": {
             "outlinewidth": 0,
             "ticks": ""
            },
            "colorscale": [
             [
              0,
              "#0d0887"
             ],
             [
              0.1111111111111111,
              "#46039f"
             ],
             [
              0.2222222222222222,
              "#7201a8"
             ],
             [
              0.3333333333333333,
              "#9c179e"
             ],
             [
              0.4444444444444444,
              "#bd3786"
             ],
             [
              0.5555555555555556,
              "#d8576b"
             ],
             [
              0.6666666666666666,
              "#ed7953"
             ],
             [
              0.7777777777777778,
              "#fb9f3a"
             ],
             [
              0.8888888888888888,
              "#fdca26"
             ],
             [
              1,
              "#f0f921"
             ]
            ],
            "type": "histogram2d"
           }
          ],
          "histogram2dcontour": [
           {
            "colorbar": {
             "outlinewidth": 0,
             "ticks": ""
            },
            "colorscale": [
             [
              0,
              "#0d0887"
             ],
             [
              0.1111111111111111,
              "#46039f"
             ],
             [
              0.2222222222222222,
              "#7201a8"
             ],
             [
              0.3333333333333333,
              "#9c179e"
             ],
             [
              0.4444444444444444,
              "#bd3786"
             ],
             [
              0.5555555555555556,
              "#d8576b"
             ],
             [
              0.6666666666666666,
              "#ed7953"
             ],
             [
              0.7777777777777778,
              "#fb9f3a"
             ],
             [
              0.8888888888888888,
              "#fdca26"
             ],
             [
              1,
              "#f0f921"
             ]
            ],
            "type": "histogram2dcontour"
           }
          ],
          "mesh3d": [
           {
            "colorbar": {
             "outlinewidth": 0,
             "ticks": ""
            },
            "type": "mesh3d"
           }
          ],
          "parcoords": [
           {
            "line": {
             "colorbar": {
              "outlinewidth": 0,
              "ticks": ""
             }
            },
            "type": "parcoords"
           }
          ],
          "pie": [
           {
            "automargin": true,
            "type": "pie"
           }
          ],
          "scatter": [
           {
            "fillpattern": {
             "fillmode": "overlay",
             "size": 10,
             "solidity": 0.2
            },
            "type": "scatter"
           }
          ],
          "scatter3d": [
           {
            "line": {
             "colorbar": {
              "outlinewidth": 0,
              "ticks": ""
             }
            },
            "marker": {
             "colorbar": {
              "outlinewidth": 0,
              "ticks": ""
             }
            },
            "type": "scatter3d"
           }
          ],
          "scattercarpet": [
           {
            "marker": {
             "colorbar": {
              "outlinewidth": 0,
              "ticks": ""
             }
            },
            "type": "scattercarpet"
           }
          ],
          "scattergeo": [
           {
            "marker": {
             "colorbar": {
              "outlinewidth": 0,
              "ticks": ""
             }
            },
            "type": "scattergeo"
           }
          ],
          "scattergl": [
           {
            "marker": {
             "colorbar": {
              "outlinewidth": 0,
              "ticks": ""
             }
            },
            "type": "scattergl"
           }
          ],
          "scattermapbox": [
           {
            "marker": {
             "colorbar": {
              "outlinewidth": 0,
              "ticks": ""
             }
            },
            "type": "scattermapbox"
           }
          ],
          "scatterpolar": [
           {
            "marker": {
             "colorbar": {
              "outlinewidth": 0,
              "ticks": ""
             }
            },
            "type": "scatterpolar"
           }
          ],
          "scatterpolargl": [
           {
            "marker": {
             "colorbar": {
              "outlinewidth": 0,
              "ticks": ""
             }
            },
            "type": "scatterpolargl"
           }
          ],
          "scatterternary": [
           {
            "marker": {
             "colorbar": {
              "outlinewidth": 0,
              "ticks": ""
             }
            },
            "type": "scatterternary"
           }
          ],
          "surface": [
           {
            "colorbar": {
             "outlinewidth": 0,
             "ticks": ""
            },
            "colorscale": [
             [
              0,
              "#0d0887"
             ],
             [
              0.1111111111111111,
              "#46039f"
             ],
             [
              0.2222222222222222,
              "#7201a8"
             ],
             [
              0.3333333333333333,
              "#9c179e"
             ],
             [
              0.4444444444444444,
              "#bd3786"
             ],
             [
              0.5555555555555556,
              "#d8576b"
             ],
             [
              0.6666666666666666,
              "#ed7953"
             ],
             [
              0.7777777777777778,
              "#fb9f3a"
             ],
             [
              0.8888888888888888,
              "#fdca26"
             ],
             [
              1,
              "#f0f921"
             ]
            ],
            "type": "surface"
           }
          ],
          "table": [
           {
            "cells": {
             "fill": {
              "color": "#EBF0F8"
             },
             "line": {
              "color": "white"
             }
            },
            "header": {
             "fill": {
              "color": "#C8D4E3"
             },
             "line": {
              "color": "white"
             }
            },
            "type": "table"
           }
          ]
         },
         "layout": {
          "annotationdefaults": {
           "arrowcolor": "#2a3f5f",
           "arrowhead": 0,
           "arrowwidth": 1
          },
          "autotypenumbers": "strict",
          "coloraxis": {
           "colorbar": {
            "outlinewidth": 0,
            "ticks": ""
           }
          },
          "colorscale": {
           "diverging": [
            [
             0,
             "#8e0152"
            ],
            [
             0.1,
             "#c51b7d"
            ],
            [
             0.2,
             "#de77ae"
            ],
            [
             0.3,
             "#f1b6da"
            ],
            [
             0.4,
             "#fde0ef"
            ],
            [
             0.5,
             "#f7f7f7"
            ],
            [
             0.6,
             "#e6f5d0"
            ],
            [
             0.7,
             "#b8e186"
            ],
            [
             0.8,
             "#7fbc41"
            ],
            [
             0.9,
             "#4d9221"
            ],
            [
             1,
             "#276419"
            ]
           ],
           "sequential": [
            [
             0,
             "#0d0887"
            ],
            [
             0.1111111111111111,
             "#46039f"
            ],
            [
             0.2222222222222222,
             "#7201a8"
            ],
            [
             0.3333333333333333,
             "#9c179e"
            ],
            [
             0.4444444444444444,
             "#bd3786"
            ],
            [
             0.5555555555555556,
             "#d8576b"
            ],
            [
             0.6666666666666666,
             "#ed7953"
            ],
            [
             0.7777777777777778,
             "#fb9f3a"
            ],
            [
             0.8888888888888888,
             "#fdca26"
            ],
            [
             1,
             "#f0f921"
            ]
           ],
           "sequentialminus": [
            [
             0,
             "#0d0887"
            ],
            [
             0.1111111111111111,
             "#46039f"
            ],
            [
             0.2222222222222222,
             "#7201a8"
            ],
            [
             0.3333333333333333,
             "#9c179e"
            ],
            [
             0.4444444444444444,
             "#bd3786"
            ],
            [
             0.5555555555555556,
             "#d8576b"
            ],
            [
             0.6666666666666666,
             "#ed7953"
            ],
            [
             0.7777777777777778,
             "#fb9f3a"
            ],
            [
             0.8888888888888888,
             "#fdca26"
            ],
            [
             1,
             "#f0f921"
            ]
           ]
          },
          "colorway": [
           "#636efa",
           "#EF553B",
           "#00cc96",
           "#ab63fa",
           "#FFA15A",
           "#19d3f3",
           "#FF6692",
           "#B6E880",
           "#FF97FF",
           "#FECB52"
          ],
          "font": {
           "color": "#2a3f5f"
          },
          "geo": {
           "bgcolor": "white",
           "lakecolor": "white",
           "landcolor": "#E5ECF6",
           "showlakes": true,
           "showland": true,
           "subunitcolor": "white"
          },
          "hoverlabel": {
           "align": "left"
          },
          "hovermode": "closest",
          "mapbox": {
           "style": "light"
          },
          "paper_bgcolor": "white",
          "plot_bgcolor": "#E5ECF6",
          "polar": {
           "angularaxis": {
            "gridcolor": "white",
            "linecolor": "white",
            "ticks": ""
           },
           "bgcolor": "#E5ECF6",
           "radialaxis": {
            "gridcolor": "white",
            "linecolor": "white",
            "ticks": ""
           }
          },
          "scene": {
           "xaxis": {
            "backgroundcolor": "#E5ECF6",
            "gridcolor": "white",
            "gridwidth": 2,
            "linecolor": "white",
            "showbackground": true,
            "ticks": "",
            "zerolinecolor": "white"
           },
           "yaxis": {
            "backgroundcolor": "#E5ECF6",
            "gridcolor": "white",
            "gridwidth": 2,
            "linecolor": "white",
            "showbackground": true,
            "ticks": "",
            "zerolinecolor": "white"
           },
           "zaxis": {
            "backgroundcolor": "#E5ECF6",
            "gridcolor": "white",
            "gridwidth": 2,
            "linecolor": "white",
            "showbackground": true,
            "ticks": "",
            "zerolinecolor": "white"
           }
          },
          "shapedefaults": {
           "line": {
            "color": "#2a3f5f"
           }
          },
          "ternary": {
           "aaxis": {
            "gridcolor": "white",
            "linecolor": "white",
            "ticks": ""
           },
           "baxis": {
            "gridcolor": "white",
            "linecolor": "white",
            "ticks": ""
           },
           "bgcolor": "#E5ECF6",
           "caxis": {
            "gridcolor": "white",
            "linecolor": "white",
            "ticks": ""
           }
          },
          "title": {
           "x": 0.05
          },
          "xaxis": {
           "automargin": true,
           "gridcolor": "white",
           "linecolor": "white",
           "ticks": "",
           "title": {
            "standoff": 15
           },
           "zerolinecolor": "white",
           "zerolinewidth": 2
          },
          "yaxis": {
           "automargin": true,
           "gridcolor": "white",
           "linecolor": "white",
           "ticks": "",
           "title": {
            "standoff": 15
           },
           "zerolinecolor": "white",
           "zerolinewidth": 2
          }
         }
        },
        "xaxis": {
         "anchor": "y",
         "domain": [
          0,
          1
         ],
         "title": {
          "text": "index"
         }
        },
        "yaxis": {
         "anchor": "x",
         "domain": [
          0,
          1
         ],
         "title": {
          "text": "value"
         }
        }
       }
      }
     },
     "metadata": {},
     "output_type": "display_data"
    }
   ],
   "source": [
    "import plotly.express as px\n",
    "\n",
    "\n",
    "fig = px.line(y=[trainData, reco])\n",
    "fig.show()\n",
    "fig = px.line(y=testSeries)\n",
    "\n",
    "\n",
    "# fig = px.line(y=reco)\n",
    "\n",
    "# fig = px.line(y=testSeries)\n",
    "\n"
   ]
  },
  {
   "cell_type": "code",
   "execution_count": null,
   "id": "736aec4f",
   "metadata": {},
   "outputs": [],
   "source": []
  },
  {
   "cell_type": "markdown",
   "id": "c0215741",
   "metadata": {},
   "source": [
    "prediccion"
   ]
  },
  {
   "cell_type": "code",
   "execution_count": null,
   "id": "8cf035a1",
   "metadata": {},
   "outputs": [],
   "source": []
  },
  {
   "cell_type": "code",
   "execution_count": 307,
   "id": "0d7f63bd",
   "metadata": {},
   "outputs": [
    {
     "name": "stderr",
     "output_type": "stream",
     "text": [
      "Sampling: [obs]\n"
     ]
    },
    {
     "data": {
      "text/html": [
       "\n",
       "<style>\n",
       "    /* Turns off some styling */\n",
       "    progress {\n",
       "        /* gets rid of default border in Firefox and Opera. */\n",
       "        border: none;\n",
       "        /* Needs to be in here for Safari polyfill so background images work as expected. */\n",
       "        background-size: auto;\n",
       "    }\n",
       "    progress:not([value]), progress:not([value])::-webkit-progress-bar {\n",
       "        background: repeating-linear-gradient(45deg, #7e7e7e, #7e7e7e 10px, #5c5c5c 10px, #5c5c5c 20px);\n",
       "    }\n",
       "    .progress-bar-interrupted, .progress-bar-interrupted::-webkit-progress-bar {\n",
       "        background: #F44336;\n",
       "    }\n",
       "</style>\n"
      ],
      "text/plain": [
       "<IPython.core.display.HTML object>"
      ]
     },
     "metadata": {},
     "output_type": "display_data"
    },
    {
     "data": {
      "text/html": [
       "\n",
       "    <div>\n",
       "      <progress value='4000' class='' max='4000' style='width:300px; height:20px; vertical-align: middle;'></progress>\n",
       "      100.00% [4000/4000 00:00&lt;00:00]\n",
       "    </div>\n",
       "    "
      ],
      "text/plain": [
       "<IPython.core.display.HTML object>"
      ]
     },
     "metadata": {},
     "output_type": "display_data"
    }
   ],
   "source": [
    "with model:\n",
    "    ppc = pm.sample_posterior_predictive(trace, var_names=[\"obs\"])"
   ]
  },
  {
   "cell_type": "code",
   "execution_count": 308,
   "id": "2e23efa5",
   "metadata": {},
   "outputs": [
    {
     "data": {
      "text/html": [
       "<div><svg style=\"position: absolute; width: 0; height: 0; overflow: hidden\">\n",
       "<defs>\n",
       "<symbol id=\"icon-database\" viewBox=\"0 0 32 32\">\n",
       "<path d=\"M16 0c-8.837 0-16 2.239-16 5v4c0 2.761 7.163 5 16 5s16-2.239 16-5v-4c0-2.761-7.163-5-16-5z\"></path>\n",
       "<path d=\"M16 17c-8.837 0-16-2.239-16-5v6c0 2.761 7.163 5 16 5s16-2.239 16-5v-6c0 2.761-7.163 5-16 5z\"></path>\n",
       "<path d=\"M16 26c-8.837 0-16-2.239-16-5v6c0 2.761 7.163 5 16 5s16-2.239 16-5v-6c0 2.761-7.163 5-16 5z\"></path>\n",
       "</symbol>\n",
       "<symbol id=\"icon-file-text2\" viewBox=\"0 0 32 32\">\n",
       "<path d=\"M28.681 7.159c-0.694-0.947-1.662-2.053-2.724-3.116s-2.169-2.030-3.116-2.724c-1.612-1.182-2.393-1.319-2.841-1.319h-15.5c-1.378 0-2.5 1.121-2.5 2.5v27c0 1.378 1.122 2.5 2.5 2.5h23c1.378 0 2.5-1.122 2.5-2.5v-19.5c0-0.448-0.137-1.23-1.319-2.841zM24.543 5.457c0.959 0.959 1.712 1.825 2.268 2.543h-4.811v-4.811c0.718 0.556 1.584 1.309 2.543 2.268zM28 29.5c0 0.271-0.229 0.5-0.5 0.5h-23c-0.271 0-0.5-0.229-0.5-0.5v-27c0-0.271 0.229-0.5 0.5-0.5 0 0 15.499-0 15.5 0v7c0 0.552 0.448 1 1 1h7v19.5z\"></path>\n",
       "<path d=\"M23 26h-14c-0.552 0-1-0.448-1-1s0.448-1 1-1h14c0.552 0 1 0.448 1 1s-0.448 1-1 1z\"></path>\n",
       "<path d=\"M23 22h-14c-0.552 0-1-0.448-1-1s0.448-1 1-1h14c0.552 0 1 0.448 1 1s-0.448 1-1 1z\"></path>\n",
       "<path d=\"M23 18h-14c-0.552 0-1-0.448-1-1s0.448-1 1-1h14c0.552 0 1 0.448 1 1s-0.448 1-1 1z\"></path>\n",
       "</symbol>\n",
       "</defs>\n",
       "</svg>\n",
       "<style>/* CSS stylesheet for displaying xarray objects in jupyterlab.\n",
       " *\n",
       " */\n",
       "\n",
       ":root {\n",
       "  --xr-font-color0: var(--jp-content-font-color0, rgba(0, 0, 0, 1));\n",
       "  --xr-font-color2: var(--jp-content-font-color2, rgba(0, 0, 0, 0.54));\n",
       "  --xr-font-color3: var(--jp-content-font-color3, rgba(0, 0, 0, 0.38));\n",
       "  --xr-border-color: var(--jp-border-color2, #e0e0e0);\n",
       "  --xr-disabled-color: var(--jp-layout-color3, #bdbdbd);\n",
       "  --xr-background-color: var(--jp-layout-color0, white);\n",
       "  --xr-background-color-row-even: var(--jp-layout-color1, white);\n",
       "  --xr-background-color-row-odd: var(--jp-layout-color2, #eeeeee);\n",
       "}\n",
       "\n",
       "html[theme=dark],\n",
       "body[data-theme=dark],\n",
       "body.vscode-dark {\n",
       "  --xr-font-color0: rgba(255, 255, 255, 1);\n",
       "  --xr-font-color2: rgba(255, 255, 255, 0.54);\n",
       "  --xr-font-color3: rgba(255, 255, 255, 0.38);\n",
       "  --xr-border-color: #1F1F1F;\n",
       "  --xr-disabled-color: #515151;\n",
       "  --xr-background-color: #111111;\n",
       "  --xr-background-color-row-even: #111111;\n",
       "  --xr-background-color-row-odd: #313131;\n",
       "}\n",
       "\n",
       ".xr-wrap {\n",
       "  display: block !important;\n",
       "  min-width: 300px;\n",
       "  max-width: 700px;\n",
       "}\n",
       "\n",
       ".xr-text-repr-fallback {\n",
       "  /* fallback to plain text repr when CSS is not injected (untrusted notebook) */\n",
       "  display: none;\n",
       "}\n",
       "\n",
       ".xr-header {\n",
       "  padding-top: 6px;\n",
       "  padding-bottom: 6px;\n",
       "  margin-bottom: 4px;\n",
       "  border-bottom: solid 1px var(--xr-border-color);\n",
       "}\n",
       "\n",
       ".xr-header > div,\n",
       ".xr-header > ul {\n",
       "  display: inline;\n",
       "  margin-top: 0;\n",
       "  margin-bottom: 0;\n",
       "}\n",
       "\n",
       ".xr-obj-type,\n",
       ".xr-array-name {\n",
       "  margin-left: 2px;\n",
       "  margin-right: 10px;\n",
       "}\n",
       "\n",
       ".xr-obj-type {\n",
       "  color: var(--xr-font-color2);\n",
       "}\n",
       "\n",
       ".xr-sections {\n",
       "  padding-left: 0 !important;\n",
       "  display: grid;\n",
       "  grid-template-columns: 150px auto auto 1fr 20px 20px;\n",
       "}\n",
       "\n",
       ".xr-section-item {\n",
       "  display: contents;\n",
       "}\n",
       "\n",
       ".xr-section-item input {\n",
       "  display: none;\n",
       "}\n",
       "\n",
       ".xr-section-item input + label {\n",
       "  color: var(--xr-disabled-color);\n",
       "}\n",
       "\n",
       ".xr-section-item input:enabled + label {\n",
       "  cursor: pointer;\n",
       "  color: var(--xr-font-color2);\n",
       "}\n",
       "\n",
       ".xr-section-item input:enabled + label:hover {\n",
       "  color: var(--xr-font-color0);\n",
       "}\n",
       "\n",
       ".xr-section-summary {\n",
       "  grid-column: 1;\n",
       "  color: var(--xr-font-color2);\n",
       "  font-weight: 500;\n",
       "}\n",
       "\n",
       ".xr-section-summary > span {\n",
       "  display: inline-block;\n",
       "  padding-left: 0.5em;\n",
       "}\n",
       "\n",
       ".xr-section-summary-in:disabled + label {\n",
       "  color: var(--xr-font-color2);\n",
       "}\n",
       "\n",
       ".xr-section-summary-in + label:before {\n",
       "  display: inline-block;\n",
       "  content: '►';\n",
       "  font-size: 11px;\n",
       "  width: 15px;\n",
       "  text-align: center;\n",
       "}\n",
       "\n",
       ".xr-section-summary-in:disabled + label:before {\n",
       "  color: var(--xr-disabled-color);\n",
       "}\n",
       "\n",
       ".xr-section-summary-in:checked + label:before {\n",
       "  content: '▼';\n",
       "}\n",
       "\n",
       ".xr-section-summary-in:checked + label > span {\n",
       "  display: none;\n",
       "}\n",
       "\n",
       ".xr-section-summary,\n",
       ".xr-section-inline-details {\n",
       "  padding-top: 4px;\n",
       "  padding-bottom: 4px;\n",
       "}\n",
       "\n",
       ".xr-section-inline-details {\n",
       "  grid-column: 2 / -1;\n",
       "}\n",
       "\n",
       ".xr-section-details {\n",
       "  display: none;\n",
       "  grid-column: 1 / -1;\n",
       "  margin-bottom: 5px;\n",
       "}\n",
       "\n",
       ".xr-section-summary-in:checked ~ .xr-section-details {\n",
       "  display: contents;\n",
       "}\n",
       "\n",
       ".xr-array-wrap {\n",
       "  grid-column: 1 / -1;\n",
       "  display: grid;\n",
       "  grid-template-columns: 20px auto;\n",
       "}\n",
       "\n",
       ".xr-array-wrap > label {\n",
       "  grid-column: 1;\n",
       "  vertical-align: top;\n",
       "}\n",
       "\n",
       ".xr-preview {\n",
       "  color: var(--xr-font-color3);\n",
       "}\n",
       "\n",
       ".xr-array-preview,\n",
       ".xr-array-data {\n",
       "  padding: 0 5px !important;\n",
       "  grid-column: 2;\n",
       "}\n",
       "\n",
       ".xr-array-data,\n",
       ".xr-array-in:checked ~ .xr-array-preview {\n",
       "  display: none;\n",
       "}\n",
       "\n",
       ".xr-array-in:checked ~ .xr-array-data,\n",
       ".xr-array-preview {\n",
       "  display: inline-block;\n",
       "}\n",
       "\n",
       ".xr-dim-list {\n",
       "  display: inline-block !important;\n",
       "  list-style: none;\n",
       "  padding: 0 !important;\n",
       "  margin: 0;\n",
       "}\n",
       "\n",
       ".xr-dim-list li {\n",
       "  display: inline-block;\n",
       "  padding: 0;\n",
       "  margin: 0;\n",
       "}\n",
       "\n",
       ".xr-dim-list:before {\n",
       "  content: '(';\n",
       "}\n",
       "\n",
       ".xr-dim-list:after {\n",
       "  content: ')';\n",
       "}\n",
       "\n",
       ".xr-dim-list li:not(:last-child):after {\n",
       "  content: ',';\n",
       "  padding-right: 5px;\n",
       "}\n",
       "\n",
       ".xr-has-index {\n",
       "  font-weight: bold;\n",
       "}\n",
       "\n",
       ".xr-var-list,\n",
       ".xr-var-item {\n",
       "  display: contents;\n",
       "}\n",
       "\n",
       ".xr-var-item > div,\n",
       ".xr-var-item label,\n",
       ".xr-var-item > .xr-var-name span {\n",
       "  background-color: var(--xr-background-color-row-even);\n",
       "  margin-bottom: 0;\n",
       "}\n",
       "\n",
       ".xr-var-item > .xr-var-name:hover span {\n",
       "  padding-right: 5px;\n",
       "}\n",
       "\n",
       ".xr-var-list > li:nth-child(odd) > div,\n",
       ".xr-var-list > li:nth-child(odd) > label,\n",
       ".xr-var-list > li:nth-child(odd) > .xr-var-name span {\n",
       "  background-color: var(--xr-background-color-row-odd);\n",
       "}\n",
       "\n",
       ".xr-var-name {\n",
       "  grid-column: 1;\n",
       "}\n",
       "\n",
       ".xr-var-dims {\n",
       "  grid-column: 2;\n",
       "}\n",
       "\n",
       ".xr-var-dtype {\n",
       "  grid-column: 3;\n",
       "  text-align: right;\n",
       "  color: var(--xr-font-color2);\n",
       "}\n",
       "\n",
       ".xr-var-preview {\n",
       "  grid-column: 4;\n",
       "}\n",
       "\n",
       ".xr-index-preview {\n",
       "  grid-column: 2 / 5;\n",
       "  color: var(--xr-font-color2);\n",
       "}\n",
       "\n",
       ".xr-var-name,\n",
       ".xr-var-dims,\n",
       ".xr-var-dtype,\n",
       ".xr-preview,\n",
       ".xr-attrs dt {\n",
       "  white-space: nowrap;\n",
       "  overflow: hidden;\n",
       "  text-overflow: ellipsis;\n",
       "  padding-right: 10px;\n",
       "}\n",
       "\n",
       ".xr-var-name:hover,\n",
       ".xr-var-dims:hover,\n",
       ".xr-var-dtype:hover,\n",
       ".xr-attrs dt:hover {\n",
       "  overflow: visible;\n",
       "  width: auto;\n",
       "  z-index: 1;\n",
       "}\n",
       "\n",
       ".xr-var-attrs,\n",
       ".xr-var-data,\n",
       ".xr-index-data {\n",
       "  display: none;\n",
       "  background-color: var(--xr-background-color) !important;\n",
       "  padding-bottom: 5px !important;\n",
       "}\n",
       "\n",
       ".xr-var-attrs-in:checked ~ .xr-var-attrs,\n",
       ".xr-var-data-in:checked ~ .xr-var-data,\n",
       ".xr-index-data-in:checked ~ .xr-index-data {\n",
       "  display: block;\n",
       "}\n",
       "\n",
       ".xr-var-data > table {\n",
       "  float: right;\n",
       "}\n",
       "\n",
       ".xr-var-name span,\n",
       ".xr-var-data,\n",
       ".xr-index-name div,\n",
       ".xr-index-data,\n",
       ".xr-attrs {\n",
       "  padding-left: 25px !important;\n",
       "}\n",
       "\n",
       ".xr-attrs,\n",
       ".xr-var-attrs,\n",
       ".xr-var-data,\n",
       ".xr-index-data {\n",
       "  grid-column: 1 / -1;\n",
       "}\n",
       "\n",
       "dl.xr-attrs {\n",
       "  padding: 0;\n",
       "  margin: 0;\n",
       "  display: grid;\n",
       "  grid-template-columns: 125px auto;\n",
       "}\n",
       "\n",
       ".xr-attrs dt,\n",
       ".xr-attrs dd {\n",
       "  padding: 0;\n",
       "  margin: 0;\n",
       "  float: left;\n",
       "  padding-right: 10px;\n",
       "  width: auto;\n",
       "}\n",
       "\n",
       ".xr-attrs dt {\n",
       "  font-weight: normal;\n",
       "  grid-column: 1;\n",
       "}\n",
       "\n",
       ".xr-attrs dt:hover span {\n",
       "  display: inline-block;\n",
       "  background: var(--xr-background-color);\n",
       "  padding-right: 10px;\n",
       "}\n",
       "\n",
       ".xr-attrs dd {\n",
       "  grid-column: 2;\n",
       "  white-space: pre-wrap;\n",
       "  word-break: break-all;\n",
       "}\n",
       "\n",
       ".xr-icon-database,\n",
       ".xr-icon-file-text2,\n",
       ".xr-no-icon {\n",
       "  display: inline-block;\n",
       "  vertical-align: middle;\n",
       "  width: 1em;\n",
       "  height: 1.5em !important;\n",
       "  stroke-width: 0;\n",
       "  stroke: currentColor;\n",
       "  fill: currentColor;\n",
       "}\n",
       "</style><pre class='xr-text-repr-fallback'>&lt;xarray.DataArray &#x27;obs&#x27; (chain: 4, draw: 1000, obs_dim_2: 100)&gt;\n",
       "array([[[0.38716229, 0.38564496, 0.40741499, ..., 0.25414355,\n",
       "         0.31940952, 0.27651242],\n",
       "        [0.391278  , 0.3757138 , 0.39045761, ..., 0.27544343,\n",
       "         0.35178281, 0.25499739],\n",
       "        [0.43748784, 0.403953  , 0.37522479, ..., 0.3351097 ,\n",
       "         0.32605795, 0.21765635],\n",
       "        ...,\n",
       "        [0.4271247 , 0.38761572, 0.3474062 , ..., 0.29336276,\n",
       "         0.31068484, 0.25721194],\n",
       "        [0.40026586, 0.40494268, 0.40502029, ..., 0.32329533,\n",
       "         0.25671501, 0.28158029],\n",
       "        [0.39583931, 0.37829169, 0.3678347 , ..., 0.31468057,\n",
       "         0.28116951, 0.2493035 ]],\n",
       "\n",
       "       [[0.38132166, 0.40105811, 0.37306964, ..., 0.28911916,\n",
       "         0.29385812, 0.29342602],\n",
       "        [0.44453249, 0.4122148 , 0.38852482, ..., 0.31581256,\n",
       "         0.28774487, 0.22035722],\n",
       "        [0.37848019, 0.42419732, 0.37957832, ..., 0.34179504,\n",
       "         0.2936829 , 0.25267012],\n",
       "...\n",
       "        [0.49146186, 0.38869985, 0.41286321, ..., 0.28610649,\n",
       "         0.27666515, 0.24434209],\n",
       "        [0.42109797, 0.39485616, 0.38584985, ..., 0.33345321,\n",
       "         0.30174241, 0.2716814 ],\n",
       "        [0.41630661, 0.43006053, 0.36264299, ..., 0.34690245,\n",
       "         0.25553763, 0.30872569]],\n",
       "\n",
       "       [[0.40293742, 0.38943228, 0.38251517, ..., 0.28892774,\n",
       "         0.2691353 , 0.27589445],\n",
       "        [0.46701759, 0.38490746, 0.39461681, ..., 0.30036208,\n",
       "         0.33046006, 0.22683605],\n",
       "        [0.38627205, 0.37235371, 0.40822737, ..., 0.33546736,\n",
       "         0.28305209, 0.20249192],\n",
       "        ...,\n",
       "        [0.40462109, 0.38693243, 0.36544207, ..., 0.32755456,\n",
       "         0.2755636 , 0.27162992],\n",
       "        [0.42074565, 0.41847434, 0.40469813, ..., 0.27021955,\n",
       "         0.32976109, 0.27554414],\n",
       "        [0.41748612, 0.39081819, 0.36504085, ..., 0.25682744,\n",
       "         0.31233554, 0.28607504]]])\n",
       "Coordinates:\n",
       "  * chain      (chain) int64 0 1 2 3\n",
       "  * draw       (draw) int64 0 1 2 3 4 5 6 7 ... 992 993 994 995 996 997 998 999\n",
       "  * obs_dim_2  (obs_dim_2) int64 0 1 2 3 4 5 6 7 8 ... 92 93 94 95 96 97 98 99</pre><div class='xr-wrap' style='display:none'><div class='xr-header'><div class='xr-obj-type'>xarray.DataArray</div><div class='xr-array-name'>'obs'</div><ul class='xr-dim-list'><li><span class='xr-has-index'>chain</span>: 4</li><li><span class='xr-has-index'>draw</span>: 1000</li><li><span class='xr-has-index'>obs_dim_2</span>: 100</li></ul></div><ul class='xr-sections'><li class='xr-section-item'><div class='xr-array-wrap'><input id='section-ae359461-2c35-4743-9015-e4a84911b417' class='xr-array-in' type='checkbox' checked><label for='section-ae359461-2c35-4743-9015-e4a84911b417' title='Show/hide data repr'><svg class='icon xr-icon-database'><use xlink:href='#icon-database'></use></svg></label><div class='xr-array-preview xr-preview'><span>0.3872 0.3856 0.4074 0.3587 0.3041 ... 0.3089 0.2568 0.3123 0.2861</span></div><div class='xr-array-data'><pre>array([[[0.38716229, 0.38564496, 0.40741499, ..., 0.25414355,\n",
       "         0.31940952, 0.27651242],\n",
       "        [0.391278  , 0.3757138 , 0.39045761, ..., 0.27544343,\n",
       "         0.35178281, 0.25499739],\n",
       "        [0.43748784, 0.403953  , 0.37522479, ..., 0.3351097 ,\n",
       "         0.32605795, 0.21765635],\n",
       "        ...,\n",
       "        [0.4271247 , 0.38761572, 0.3474062 , ..., 0.29336276,\n",
       "         0.31068484, 0.25721194],\n",
       "        [0.40026586, 0.40494268, 0.40502029, ..., 0.32329533,\n",
       "         0.25671501, 0.28158029],\n",
       "        [0.39583931, 0.37829169, 0.3678347 , ..., 0.31468057,\n",
       "         0.28116951, 0.2493035 ]],\n",
       "\n",
       "       [[0.38132166, 0.40105811, 0.37306964, ..., 0.28911916,\n",
       "         0.29385812, 0.29342602],\n",
       "        [0.44453249, 0.4122148 , 0.38852482, ..., 0.31581256,\n",
       "         0.28774487, 0.22035722],\n",
       "        [0.37848019, 0.42419732, 0.37957832, ..., 0.34179504,\n",
       "         0.2936829 , 0.25267012],\n",
       "...\n",
       "        [0.49146186, 0.38869985, 0.41286321, ..., 0.28610649,\n",
       "         0.27666515, 0.24434209],\n",
       "        [0.42109797, 0.39485616, 0.38584985, ..., 0.33345321,\n",
       "         0.30174241, 0.2716814 ],\n",
       "        [0.41630661, 0.43006053, 0.36264299, ..., 0.34690245,\n",
       "         0.25553763, 0.30872569]],\n",
       "\n",
       "       [[0.40293742, 0.38943228, 0.38251517, ..., 0.28892774,\n",
       "         0.2691353 , 0.27589445],\n",
       "        [0.46701759, 0.38490746, 0.39461681, ..., 0.30036208,\n",
       "         0.33046006, 0.22683605],\n",
       "        [0.38627205, 0.37235371, 0.40822737, ..., 0.33546736,\n",
       "         0.28305209, 0.20249192],\n",
       "        ...,\n",
       "        [0.40462109, 0.38693243, 0.36544207, ..., 0.32755456,\n",
       "         0.2755636 , 0.27162992],\n",
       "        [0.42074565, 0.41847434, 0.40469813, ..., 0.27021955,\n",
       "         0.32976109, 0.27554414],\n",
       "        [0.41748612, 0.39081819, 0.36504085, ..., 0.25682744,\n",
       "         0.31233554, 0.28607504]]])</pre></div></div></li><li class='xr-section-item'><input id='section-50918990-34b2-4993-bab7-1cf37f7e422c' class='xr-section-summary-in' type='checkbox'  checked><label for='section-50918990-34b2-4993-bab7-1cf37f7e422c' class='xr-section-summary' >Coordinates: <span>(3)</span></label><div class='xr-section-inline-details'></div><div class='xr-section-details'><ul class='xr-var-list'><li class='xr-var-item'><div class='xr-var-name'><span class='xr-has-index'>chain</span></div><div class='xr-var-dims'>(chain)</div><div class='xr-var-dtype'>int64</div><div class='xr-var-preview xr-preview'>0 1 2 3</div><input id='attrs-6edf2723-1f88-47c4-981c-3c70e854f798' class='xr-var-attrs-in' type='checkbox' disabled><label for='attrs-6edf2723-1f88-47c4-981c-3c70e854f798' title='Show/Hide attributes'><svg class='icon xr-icon-file-text2'><use xlink:href='#icon-file-text2'></use></svg></label><input id='data-6043c106-e587-4db2-b670-b3345ebbf1e3' class='xr-var-data-in' type='checkbox'><label for='data-6043c106-e587-4db2-b670-b3345ebbf1e3' title='Show/Hide data repr'><svg class='icon xr-icon-database'><use xlink:href='#icon-database'></use></svg></label><div class='xr-var-attrs'><dl class='xr-attrs'></dl></div><div class='xr-var-data'><pre>array([0, 1, 2, 3])</pre></div></li><li class='xr-var-item'><div class='xr-var-name'><span class='xr-has-index'>draw</span></div><div class='xr-var-dims'>(draw)</div><div class='xr-var-dtype'>int64</div><div class='xr-var-preview xr-preview'>0 1 2 3 4 5 ... 995 996 997 998 999</div><input id='attrs-b1f81608-2696-4d0d-ac25-392a10cf343e' class='xr-var-attrs-in' type='checkbox' disabled><label for='attrs-b1f81608-2696-4d0d-ac25-392a10cf343e' title='Show/Hide attributes'><svg class='icon xr-icon-file-text2'><use xlink:href='#icon-file-text2'></use></svg></label><input id='data-6a03f10c-ae5c-40ff-bcef-d551934960c9' class='xr-var-data-in' type='checkbox'><label for='data-6a03f10c-ae5c-40ff-bcef-d551934960c9' title='Show/Hide data repr'><svg class='icon xr-icon-database'><use xlink:href='#icon-database'></use></svg></label><div class='xr-var-attrs'><dl class='xr-attrs'></dl></div><div class='xr-var-data'><pre>array([  0,   1,   2, ..., 997, 998, 999])</pre></div></li><li class='xr-var-item'><div class='xr-var-name'><span class='xr-has-index'>obs_dim_2</span></div><div class='xr-var-dims'>(obs_dim_2)</div><div class='xr-var-dtype'>int64</div><div class='xr-var-preview xr-preview'>0 1 2 3 4 5 6 ... 94 95 96 97 98 99</div><input id='attrs-f6d82b1d-deeb-4492-84ff-31060118008c' class='xr-var-attrs-in' type='checkbox' disabled><label for='attrs-f6d82b1d-deeb-4492-84ff-31060118008c' title='Show/Hide attributes'><svg class='icon xr-icon-file-text2'><use xlink:href='#icon-file-text2'></use></svg></label><input id='data-c860cf3e-7720-4944-90c0-c8429c32be96' class='xr-var-data-in' type='checkbox'><label for='data-c860cf3e-7720-4944-90c0-c8429c32be96' title='Show/Hide data repr'><svg class='icon xr-icon-database'><use xlink:href='#icon-database'></use></svg></label><div class='xr-var-attrs'><dl class='xr-attrs'></dl></div><div class='xr-var-data'><pre>array([ 0,  1,  2,  3,  4,  5,  6,  7,  8,  9, 10, 11, 12, 13, 14, 15, 16, 17,\n",
       "       18, 19, 20, 21, 22, 23, 24, 25, 26, 27, 28, 29, 30, 31, 32, 33, 34, 35,\n",
       "       36, 37, 38, 39, 40, 41, 42, 43, 44, 45, 46, 47, 48, 49, 50, 51, 52, 53,\n",
       "       54, 55, 56, 57, 58, 59, 60, 61, 62, 63, 64, 65, 66, 67, 68, 69, 70, 71,\n",
       "       72, 73, 74, 75, 76, 77, 78, 79, 80, 81, 82, 83, 84, 85, 86, 87, 88, 89,\n",
       "       90, 91, 92, 93, 94, 95, 96, 97, 98, 99])</pre></div></li></ul></div></li><li class='xr-section-item'><input id='section-b05a53d9-4fe8-42df-82cd-bc806c7c65ff' class='xr-section-summary-in' type='checkbox'  ><label for='section-b05a53d9-4fe8-42df-82cd-bc806c7c65ff' class='xr-section-summary' >Indexes: <span>(3)</span></label><div class='xr-section-inline-details'></div><div class='xr-section-details'><ul class='xr-var-list'><li class='xr-var-item'><div class='xr-index-name'><div>chain</div></div><div class='xr-index-preview'>PandasIndex</div><div></div><input id='index-08ce21bd-3673-4974-bf7c-cac96149eb77' class='xr-index-data-in' type='checkbox'/><label for='index-08ce21bd-3673-4974-bf7c-cac96149eb77' title='Show/Hide index repr'><svg class='icon xr-icon-database'><use xlink:href='#icon-database'></use></svg></label><div class='xr-index-data'><pre>PandasIndex(Index([0, 1, 2, 3], dtype=&#x27;int64&#x27;, name=&#x27;chain&#x27;))</pre></div></li><li class='xr-var-item'><div class='xr-index-name'><div>draw</div></div><div class='xr-index-preview'>PandasIndex</div><div></div><input id='index-bbf8417b-bd27-41dc-b906-fb220013e9af' class='xr-index-data-in' type='checkbox'/><label for='index-bbf8417b-bd27-41dc-b906-fb220013e9af' title='Show/Hide index repr'><svg class='icon xr-icon-database'><use xlink:href='#icon-database'></use></svg></label><div class='xr-index-data'><pre>PandasIndex(Index([  0,   1,   2,   3,   4,   5,   6,   7,   8,   9,\n",
       "       ...\n",
       "       990, 991, 992, 993, 994, 995, 996, 997, 998, 999],\n",
       "      dtype=&#x27;int64&#x27;, name=&#x27;draw&#x27;, length=1000))</pre></div></li><li class='xr-var-item'><div class='xr-index-name'><div>obs_dim_2</div></div><div class='xr-index-preview'>PandasIndex</div><div></div><input id='index-47be145a-45df-4e96-a460-32082dcce39a' class='xr-index-data-in' type='checkbox'/><label for='index-47be145a-45df-4e96-a460-32082dcce39a' title='Show/Hide index repr'><svg class='icon xr-icon-database'><use xlink:href='#icon-database'></use></svg></label><div class='xr-index-data'><pre>PandasIndex(Index([ 0,  1,  2,  3,  4,  5,  6,  7,  8,  9, 10, 11, 12, 13, 14, 15, 16, 17,\n",
       "       18, 19, 20, 21, 22, 23, 24, 25, 26, 27, 28, 29, 30, 31, 32, 33, 34, 35,\n",
       "       36, 37, 38, 39, 40, 41, 42, 43, 44, 45, 46, 47, 48, 49, 50, 51, 52, 53,\n",
       "       54, 55, 56, 57, 58, 59, 60, 61, 62, 63, 64, 65, 66, 67, 68, 69, 70, 71,\n",
       "       72, 73, 74, 75, 76, 77, 78, 79, 80, 81, 82, 83, 84, 85, 86, 87, 88, 89,\n",
       "       90, 91, 92, 93, 94, 95, 96, 97, 98, 99],\n",
       "      dtype=&#x27;int64&#x27;, name=&#x27;obs_dim_2&#x27;))</pre></div></li></ul></div></li><li class='xr-section-item'><input id='section-bcd46a7b-a52c-4052-a3e2-10a70ee2abaf' class='xr-section-summary-in' type='checkbox' disabled ><label for='section-bcd46a7b-a52c-4052-a3e2-10a70ee2abaf' class='xr-section-summary'  title='Expand/collapse section'>Attributes: <span>(0)</span></label><div class='xr-section-inline-details'></div><div class='xr-section-details'><dl class='xr-attrs'></dl></div></li></ul></div></div>"
      ],
      "text/plain": [
       "<xarray.DataArray 'obs' (chain: 4, draw: 1000, obs_dim_2: 100)>\n",
       "array([[[0.38716229, 0.38564496, 0.40741499, ..., 0.25414355,\n",
       "         0.31940952, 0.27651242],\n",
       "        [0.391278  , 0.3757138 , 0.39045761, ..., 0.27544343,\n",
       "         0.35178281, 0.25499739],\n",
       "        [0.43748784, 0.403953  , 0.37522479, ..., 0.3351097 ,\n",
       "         0.32605795, 0.21765635],\n",
       "        ...,\n",
       "        [0.4271247 , 0.38761572, 0.3474062 , ..., 0.29336276,\n",
       "         0.31068484, 0.25721194],\n",
       "        [0.40026586, 0.40494268, 0.40502029, ..., 0.32329533,\n",
       "         0.25671501, 0.28158029],\n",
       "        [0.39583931, 0.37829169, 0.3678347 , ..., 0.31468057,\n",
       "         0.28116951, 0.2493035 ]],\n",
       "\n",
       "       [[0.38132166, 0.40105811, 0.37306964, ..., 0.28911916,\n",
       "         0.29385812, 0.29342602],\n",
       "        [0.44453249, 0.4122148 , 0.38852482, ..., 0.31581256,\n",
       "         0.28774487, 0.22035722],\n",
       "        [0.37848019, 0.42419732, 0.37957832, ..., 0.34179504,\n",
       "         0.2936829 , 0.25267012],\n",
       "...\n",
       "        [0.49146186, 0.38869985, 0.41286321, ..., 0.28610649,\n",
       "         0.27666515, 0.24434209],\n",
       "        [0.42109797, 0.39485616, 0.38584985, ..., 0.33345321,\n",
       "         0.30174241, 0.2716814 ],\n",
       "        [0.41630661, 0.43006053, 0.36264299, ..., 0.34690245,\n",
       "         0.25553763, 0.30872569]],\n",
       "\n",
       "       [[0.40293742, 0.38943228, 0.38251517, ..., 0.28892774,\n",
       "         0.2691353 , 0.27589445],\n",
       "        [0.46701759, 0.38490746, 0.39461681, ..., 0.30036208,\n",
       "         0.33046006, 0.22683605],\n",
       "        [0.38627205, 0.37235371, 0.40822737, ..., 0.33546736,\n",
       "         0.28305209, 0.20249192],\n",
       "        ...,\n",
       "        [0.40462109, 0.38693243, 0.36544207, ..., 0.32755456,\n",
       "         0.2755636 , 0.27162992],\n",
       "        [0.42074565, 0.41847434, 0.40469813, ..., 0.27021955,\n",
       "         0.32976109, 0.27554414],\n",
       "        [0.41748612, 0.39081819, 0.36504085, ..., 0.25682744,\n",
       "         0.31233554, 0.28607504]]])\n",
       "Coordinates:\n",
       "  * chain      (chain) int64 0 1 2 3\n",
       "  * draw       (draw) int64 0 1 2 3 4 5 6 7 ... 992 993 994 995 996 997 998 999\n",
       "  * obs_dim_2  (obs_dim_2) int64 0 1 2 3 4 5 6 7 8 ... 92 93 94 95 96 97 98 99"
      ]
     },
     "execution_count": 308,
     "metadata": {},
     "output_type": "execute_result"
    }
   ],
   "source": [
    "ppc.posterior_predictive.obs"
   ]
  },
  {
   "cell_type": "code",
   "execution_count": 309,
   "id": "560c22d9",
   "metadata": {},
   "outputs": [],
   "source": [
    "fecha_est = (t+1) % (samplesPerYear)"
   ]
  },
  {
   "cell_type": "code",
   "execution_count": 310,
   "id": "1092bb82",
   "metadata": {},
   "outputs": [
    {
     "data": {
      "text/plain": [
       "9"
      ]
     },
     "execution_count": 310,
     "metadata": {},
     "output_type": "execute_result"
    }
   ],
   "source": [
    "fecha_est"
   ]
  },
  {
   "cell_type": "code",
   "execution_count": 311,
   "id": "931a45d6",
   "metadata": {},
   "outputs": [],
   "source": [
    "est_ = ppc.posterior_predictive.obs.stack(dim=['chain', 'draw']).values"
   ]
  },
  {
   "cell_type": "code",
   "execution_count": 312,
   "id": "cd40a251",
   "metadata": {},
   "outputs": [],
   "source": [
    "est = est_[fecha_est,:]"
   ]
  },
  {
   "cell_type": "code",
   "execution_count": 313,
   "id": "a3543bf0",
   "metadata": {},
   "outputs": [
    {
     "data": {
      "text/plain": [
       "(array([  1.,   2.,   0.,   5.,   3.,   7.,   6.,  16.,  25.,  31.,  34.,\n",
       "         28.,  59.,  55.,  86.,  92., 113., 133., 149., 140., 191., 185.,\n",
       "        213., 220., 229., 225., 195., 199., 180., 172., 160., 143., 128.,\n",
       "        124., 106.,  77.,  66.,  41.,  38.,  32.,  25.,  17.,  13.,  12.,\n",
       "          9.,   7.,   2.,   3.,   1.,   2.]),\n",
       " array([0.12749059, 0.13127477, 0.13505896, 0.13884314, 0.14262732,\n",
       "        0.14641151, 0.15019569, 0.15397987, 0.15776406, 0.16154824,\n",
       "        0.16533242, 0.16911661, 0.17290079, 0.17668497, 0.18046916,\n",
       "        0.18425334, 0.18803752, 0.19182171, 0.19560589, 0.19939007,\n",
       "        0.20317426, 0.20695844, 0.21074262, 0.21452681, 0.21831099,\n",
       "        0.22209517, 0.22587936, 0.22966354, 0.23344772, 0.23723191,\n",
       "        0.24101609, 0.24480027, 0.24858446, 0.25236864, 0.25615282,\n",
       "        0.25993701, 0.26372119, 0.26750537, 0.27128956, 0.27507374,\n",
       "        0.27885792, 0.28264211, 0.28642629, 0.29021047, 0.29399466,\n",
       "        0.29777884, 0.30156302, 0.30534721, 0.30913139, 0.31291557,\n",
       "        0.31669976]),\n",
       " <BarContainer object of 50 artists>)"
      ]
     },
     "execution_count": 313,
     "metadata": {},
     "output_type": "execute_result"
    },
    {
     "data": {
      "image/png": "[encoded data removed]",
      "text/plain": [
       "<Figure size 640x480 with 1 Axes>"
      ]
     },
     "metadata": {},
     "output_type": "display_data"
    }
   ],
   "source": [
    "plt.hist(est, bins=50)"
   ]
  },
  {
   "cell_type": "code",
   "execution_count": 314,
   "id": "e437b5f4",
   "metadata": {},
   "outputs": [
    {
     "data": {
      "text/plain": [
       "<ErrorbarContainer object of 3 artists>"
      ]
     },
     "execution_count": 314,
     "metadata": {},
     "output_type": "execute_result"
    },
    {
     "data": {
      "image/png": "[encoded data removed]",
      "text/plain": [
       "<Figure size 640x480 with 1 Axes>"
      ]
     },
     "metadata": {},
     "output_type": "display_data"
    }
   ],
   "source": [
    "# fig = px.line(y=[trainData, reco])\n",
    "# fig.show()\n",
    "# fig = px.line(y=testSeries)\n",
    "\n",
    "plt.plot(testSeries[:110])\n",
    "# plt.plot(reco)\n",
    "\n",
    "reco_ = loredo_det(x_mean, t+1, samplesPerYear)\n",
    "plt.plot(reco_)\n",
    "\n",
    "plt.errorbar(x=101, y=est.mean(), yerr=est.std(), fmt='o', color='red')"
   ]
  },
  {
   "cell_type": "code",
   "execution_count": 328,
   "id": "6feaabd7",
   "metadata": {},
   "outputs": [
    {
     "data": {
      "application/vnd.plotly.v1+json": {
       "config": {
        "plotlyServerURL": "https://plot.ly"
       },
       "data": [
        {
         "mode": "lines",
         "name": "testSeries",
         "type": "scatter",
         "y": [
          0.456,
          0.42675,
          0.3975,
          0.3183,
          0.3022,
          0.287,
          0.2886,
          0.2236,
          0.2318,
          0.1911,
          0.1884,
          0.1802,
          0.1771,
          0.186,
          0.2126,
          0.2303,
          0.3453,
          0.3098,
          0.3683,
          0.37185,
          0.3754,
          0.44,
          0.4012,
          0.4128,
          0.3926,
          0.3562,
          0.3795,
          0.3489,
          0.326,
          0.32015000000000005,
          0.3143,
          0.2615,
          0.2087,
          0.2072,
          0.2075,
          0.1987,
          0.22885,
          0.259,
          0.3406,
          0.3813,
          0.3588,
          0.445,
          0.4374,
          0.4303,
          0.3973,
          0.3792,
          0.4425,
          0.3509,
          0.363,
          0.2793,
          0.3507,
          0.311,
          0.28195000000000003,
          0.2529,
          0.2411,
          0.2302,
          0.2385,
          0.22775,
          0.217,
          0.2392,
          0.3045,
          0.3912,
          0.4314,
          0.4506,
          0.4698,
          0.4376,
          0.4129,
          0.3997,
          0.4332,
          0.3843,
          0.413,
          0.3831,
          0.3659,
          0.35,
          0.3213,
          0.3312,
          0.2785,
          0.2729,
          0.2583,
          0.2412,
          0.2319,
          0.24115,
          0.2504,
          0.3551,
          0.3519,
          0.3872,
          0.3507,
          0.4443,
          0.42974999999999997,
          0.4152,
          0.4025,
          0.4127,
          0.3945,
          0.3625,
          0.4104,
          0.3774,
          0.323,
          0.2991,
          0.2909,
          0.2552,
          0.1516,
          0.2213,
          0.2254,
          0.206,
          0.2119,
          0.2044,
          0.2102,
          0.2405,
          0.2434,
          0.2814
         ]
        },
        {
         "mode": "lines",
         "name": "reco_",
         "type": "scatter",
         "y": [
          0.41782582363404897,
          0.38904434485275724,
          0.3819200459368514,
          0.3440394783062315,
          0.33502535425709495,
          0.30886038234103175,
          0.302689133837235,
          0.26479222434538013,
          0.2519129305165916,
          0.2219696799925253,
          0.2188422421604444,
          0.211573587512449,
          0.20843807426227565,
          0.22604505009680648,
          0.2826556592739209,
          0.32835480908051745,
          0.3863789936164668,
          0.3674888086617103,
          0.43157732623699957,
          0.41924543158202765,
          0.40851492360801533,
          0.4099462289119511,
          0.40644416331149863,
          0.41782582363404897,
          0.38904434485275724,
          0.3819200459368514,
          0.3440394783062315,
          0.33502535425709495,
          0.30886038234103175,
          0.302689133837235,
          0.26479222434538013,
          0.2519129305165916,
          0.2219696799925253,
          0.2188422421604444,
          0.211573587512449,
          0.20843807426227565,
          0.22604505009680648,
          0.2826556592739209,
          0.32835480908051745,
          0.3863789936164668,
          0.3674888086617103,
          0.43157732623699957,
          0.41924543158202765,
          0.40851492360801533,
          0.4099462289119511,
          0.40644416331149863,
          0.41782582363404897,
          0.38904434485275724,
          0.3819200459368514,
          0.3440394783062315,
          0.33502535425709495,
          0.30886038234103175,
          0.302689133837235,
          0.26479222434538013,
          0.2519129305165916,
          0.2219696799925253,
          0.2188422421604444,
          0.211573587512449,
          0.20843807426227565,
          0.22604505009680648,
          0.2826556592739209,
          0.32835480908051745,
          0.3863789936164668,
          0.3674888086617103,
          0.43157732623699957,
          0.41924543158202765,
          0.40851492360801533,
          0.4099462289119511,
          0.40644416331149863,
          0.41782582363404897,
          0.38904434485275724,
          0.3819200459368514,
          0.3440394783062315,
          0.33502535425709495,
          0.30886038234103175,
          0.302689133837235,
          0.26479222434538013,
          0.2519129305165916,
          0.2219696799925253,
          0.2188422421604444,
          0.211573587512449,
          0.20843807426227565,
          0.22604505009680648,
          0.2826556592739209,
          0.32835480908051745,
          0.3863789936164668,
          0.3674888086617103,
          0.43157732623699957,
          0.41924543158202765,
          0.40851492360801533,
          0.4099462289119511,
          0.40644416331149863,
          0.41782582363404897,
          0.38904434485275724,
          0.3819200459368514,
          0.3440394783062315,
          0.33502535425709495,
          0.30886038234103175,
          0.302689133837235,
          0.26479222434538013,
          0.2519129305165916,
          0.2219696799925253
         ]
        },
        {
         "error_y": {
          "array": [
           0.028062506931664618
          ],
          "type": "data",
          "visible": true
         },
         "marker": {
          "color": "red",
          "size": 10
         },
         "mode": "markers",
         "name": "estimación",
         "type": "scatter",
         "x": [
          101
         ],
         "y": [
          0.2220454166060634
         ]
        }
       ],
       "layout": {
        "template": {
         "data": {
          "bar": [
           {
            "error_x": {
             "color": "#2a3f5f"
            },
            "error_y": {
             "color": "#2a3f5f"
            },
            "marker": {
             "line": {
              "color": "white",
              "width": 0.5
             },
             "pattern": {
              "fillmode": "overlay",
              "size": 10,
              "solidity": 0.2
             }
            },
            "type": "bar"
           }
          ],
          "barpolar": [
           {
            "marker": {
             "line": {
              "color": "white",
              "width": 0.5
             },
             "pattern": {
              "fillmode": "overlay",
              "size": 10,
              "solidity": 0.2
             }
            },
            "type": "barpolar"
           }
          ],
          "carpet": [
           {
            "aaxis": {
             "endlinecolor": "#2a3f5f",
             "gridcolor": "#C8D4E3",
             "linecolor": "#C8D4E3",
             "minorgridcolor": "#C8D4E3",
             "startlinecolor": "#2a3f5f"
            },
            "baxis": {
             "endlinecolor": "#2a3f5f",
             "gridcolor": "#C8D4E3",
             "linecolor": "#C8D4E3",
             "minorgridcolor": "#C8D4E3",
             "startlinecolor": "#2a3f5f"
            },
            "type": "carpet"
           }
          ],
          "choropleth": [
           {
            "colorbar": {
             "outlinewidth": 0,
             "ticks": ""
            },
            "type": "choropleth"
           }
          ],
          "contour": [
           {
            "colorbar": {
             "outlinewidth": 0,
             "ticks": ""
            },
            "colorscale": [
             [
              0,
              "#0d0887"
             ],
             [
              0.1111111111111111,
              "#46039f"
             ],
             [
              0.2222222222222222,
              "#7201a8"
             ],
             [
              0.3333333333333333,
              "#9c179e"
             ],
             [
              0.4444444444444444,
              "#bd3786"
             ],
             [
              0.5555555555555556,
              "#d8576b"
             ],
             [
              0.6666666666666666,
              "#ed7953"
             ],
             [
              0.7777777777777778,
              "#fb9f3a"
             ],
             [
              0.8888888888888888,
              "#fdca26"
             ],
             [
              1,
              "#f0f921"
             ]
            ],
            "type": "contour"
           }
          ],
          "contourcarpet": [
           {
            "colorbar": {
             "outlinewidth": 0,
             "ticks": ""
            },
            "type": "contourcarpet"
           }
          ],
          "heatmap": [
           {
            "colorbar": {
             "outlinewidth": 0,
             "ticks": ""
            },
            "colorscale": [
             [
              0,
              "#0d0887"
             ],
             [
              0.1111111111111111,
              "#46039f"
             ],
             [
              0.2222222222222222,
              "#7201a8"
             ],
             [
              0.3333333333333333,
              "#9c179e"
             ],
             [
              0.4444444444444444,
              "#bd3786"
             ],
             [
              0.5555555555555556,
              "#d8576b"
             ],
             [
              0.6666666666666666,
              "#ed7953"
             ],
             [
              0.7777777777777778,
              "#fb9f3a"
             ],
             [
              0.8888888888888888,
              "#fdca26"
             ],
             [
              1,
              "#f0f921"
             ]
            ],
            "type": "heatmap"
           }
          ],
          "heatmapgl": [
           {
            "colorbar": {
             "outlinewidth": 0,
             "ticks": ""
            },
            "colorscale": [
             [
              0,
              "#0d0887"
             ],
             [
              0.1111111111111111,
              "#46039f"
             ],
             [
              0.2222222222222222,
              "#7201a8"
             ],
             [
              0.3333333333333333,
              "#9c179e"
             ],
             [
              0.4444444444444444,
              "#bd3786"
             ],
             [
              0.5555555555555556,
              "#d8576b"
             ],
             [
              0.6666666666666666,
              "#ed7953"
             ],
             [
              0.7777777777777778,
              "#fb9f3a"
             ],
             [
              0.8888888888888888,
              "#fdca26"
             ],
             [
              1,
              "#f0f921"
             ]
            ],
            "type": "heatmapgl"
           }
          ],
          "histogram": [
           {
            "marker": {
             "pattern": {
              "fillmode": "overlay",
              "size": 10,
              "solidity": 0.2
             }
            },
            "type": "histogram"
           }
          ],
          "histogram2d": [
           {
            "colorbar": {
             "outlinewidth": 0,
             "ticks": ""
            },
            "colorscale": [
             [
              0,
              "#0d0887"
             ],
             [
              0.1111111111111111,
              "#46039f"
             ],
             [
              0.2222222222222222,
              "#7201a8"
             ],
             [
              0.3333333333333333,
              "#9c179e"
             ],
             [
              0.4444444444444444,
              "#bd3786"
             ],
             [
              0.5555555555555556,
              "#d8576b"
             ],
             [
              0.6666666666666666,
              "#ed7953"
             ],
             [
              0.7777777777777778,
              "#fb9f3a"
             ],
             [
              0.8888888888888888,
              "#fdca26"
             ],
             [
              1,
              "#f0f921"
             ]
            ],
            "type": "histogram2d"
           }
          ],
          "histogram2dcontour": [
           {
            "colorbar": {
             "outlinewidth": 0,
             "ticks": ""
            },
            "colorscale": [
             [
              0,
              "#0d0887"
             ],
             [
              0.1111111111111111,
              "#46039f"
             ],
             [
              0.2222222222222222,
              "#7201a8"
             ],
             [
              0.3333333333333333,
              "#9c179e"
             ],
             [
              0.4444444444444444,
              "#bd3786"
             ],
             [
              0.5555555555555556,
              "#d8576b"
             ],
             [
              0.6666666666666666,
              "#ed7953"
             ],
             [
              0.7777777777777778,
              "#fb9f3a"
             ],
             [
              0.8888888888888888,
              "#fdca26"
             ],
             [
              1,
              "#f0f921"
             ]
            ],
            "type": "histogram2dcontour"
           }
          ],
          "mesh3d": [
           {
            "colorbar": {
             "outlinewidth": 0,
             "ticks": ""
            },
            "type": "mesh3d"
           }
          ],
          "parcoords": [
           {
            "line": {
             "colorbar": {
              "outlinewidth": 0,
              "ticks": ""
             }
            },
            "type": "parcoords"
           }
          ],
          "pie": [
           {
            "automargin": true,
            "type": "pie"
           }
          ],
          "scatter": [
           {
            "fillpattern": {
             "fillmode": "overlay",
             "size": 10,
             "solidity": 0.2
            },
            "type": "scatter"
           }
          ],
          "scatter3d": [
           {
            "line": {
             "colorbar": {
              "outlinewidth": 0,
              "ticks": ""
             }
            },
            "marker": {
             "colorbar": {
              "outlinewidth": 0,
              "ticks": ""
             }
            },
            "type": "scatter3d"
           }
          ],
          "scattercarpet": [
           {
            "marker": {
             "colorbar": {
              "outlinewidth": 0,
              "ticks": ""
             }
            },
            "type": "scattercarpet"
           }
          ],
          "scattergeo": [
           {
            "marker": {
             "colorbar": {
              "outlinewidth": 0,
              "ticks": ""
             }
            },
            "type": "scattergeo"
           }
          ],
          "scattergl": [
           {
            "marker": {
             "colorbar": {
              "outlinewidth": 0,
              "ticks": ""
             }
            },
            "type": "scattergl"
           }
          ],
          "scattermapbox": [
           {
            "marker": {
             "colorbar": {
              "outlinewidth": 0,
              "ticks": ""
             }
            },
            "type": "scattermapbox"
           }
          ],
          "scatterpolar": [
           {
            "marker": {
             "colorbar": {
              "outlinewidth": 0,
              "ticks": ""
             }
            },
            "type": "scatterpolar"
           }
          ],
          "scatterpolargl": [
           {
            "marker": {
             "colorbar": {
              "outlinewidth": 0,
              "ticks": ""
             }
            },
            "type": "scatterpolargl"
           }
          ],
          "scatterternary": [
           {
            "marker": {
             "colorbar": {
              "outlinewidth": 0,
              "ticks": ""
             }
            },
            "type": "scatterternary"
           }
          ],
          "surface": [
           {
            "colorbar": {
             "outlinewidth": 0,
             "ticks": ""
            },
            "colorscale": [
             [
              0,
              "#0d0887"
             ],
             [
              0.1111111111111111,
              "#46039f"
             ],
             [
              0.2222222222222222,
              "#7201a8"
             ],
             [
              0.3333333333333333,
              "#9c179e"
             ],
             [
              0.4444444444444444,
              "#bd3786"
             ],
             [
              0.5555555555555556,
              "#d8576b"
             ],
             [
              0.6666666666666666,
              "#ed7953"
             ],
             [
              0.7777777777777778,
              "#fb9f3a"
             ],
             [
              0.8888888888888888,
              "#fdca26"
             ],
             [
              1,
              "#f0f921"
             ]
            ],
            "type": "surface"
           }
          ],
          "table": [
           {
            "cells": {
             "fill": {
              "color": "#EBF0F8"
             },
             "line": {
              "color": "white"
             }
            },
            "header": {
             "fill": {
              "color": "#C8D4E3"
             },
             "line": {
              "color": "white"
             }
            },
            "type": "table"
           }
          ]
         },
         "layout": {
          "annotationdefaults": {
           "arrowcolor": "#2a3f5f",
           "arrowhead": 0,
           "arrowwidth": 1
          },
          "autotypenumbers": "strict",
          "coloraxis": {
           "colorbar": {
            "outlinewidth": 0,
            "ticks": ""
           }
          },
          "colorscale": {
           "diverging": [
            [
             0,
             "#8e0152"
            ],
            [
             0.1,
             "#c51b7d"
            ],
            [
             0.2,
             "#de77ae"
            ],
            [
             0.3,
             "#f1b6da"
            ],
            [
             0.4,
             "#fde0ef"
            ],
            [
             0.5,
             "#f7f7f7"
            ],
            [
             0.6,
             "#e6f5d0"
            ],
            [
             0.7,
             "#b8e186"
            ],
            [
             0.8,
             "#7fbc41"
            ],
            [
             0.9,
             "#4d9221"
            ],
            [
             1,
             "#276419"
            ]
           ],
           "sequential": [
            [
             0,
             "#0d0887"
            ],
            [
             0.1111111111111111,
             "#46039f"
            ],
            [
             0.2222222222222222,
             "#7201a8"
            ],
            [
             0.3333333333333333,
             "#9c179e"
            ],
            [
             0.4444444444444444,
             "#bd3786"
            ],
            [
             0.5555555555555556,
             "#d8576b"
            ],
            [
             0.6666666666666666,
             "#ed7953"
            ],
            [
             0.7777777777777778,
             "#fb9f3a"
            ],
            [
             0.8888888888888888,
             "#fdca26"
            ],
            [
             1,
             "#f0f921"
            ]
           ],
           "sequentialminus": [
            [
             0,
             "#0d0887"
            ],
            [
             0.1111111111111111,
             "#46039f"
            ],
            [
             0.2222222222222222,
             "#7201a8"
            ],
            [
             0.3333333333333333,
             "#9c179e"
            ],
            [
             0.4444444444444444,
             "#bd3786"
            ],
            [
             0.5555555555555556,
             "#d8576b"
            ],
            [
             0.6666666666666666,
             "#ed7953"
            ],
            [
             0.7777777777777778,
             "#fb9f3a"
            ],
            [
             0.8888888888888888,
             "#fdca26"
            ],
            [
             1,
             "#f0f921"
            ]
           ]
          },
          "colorway": [
           "#636efa",
           "#EF553B",
           "#00cc96",
           "#ab63fa",
           "#FFA15A",
           "#19d3f3",
           "#FF6692",
           "#B6E880",
           "#FF97FF",
           "#FECB52"
          ],
          "font": {
           "color": "#2a3f5f"
          },
          "geo": {
           "bgcolor": "white",
           "lakecolor": "white",
           "landcolor": "white",
           "showlakes": true,
           "showland": true,
           "subunitcolor": "#C8D4E3"
          },
          "hoverlabel": {
           "align": "left"
          },
          "hovermode": "closest",
          "mapbox": {
           "style": "light"
          },
          "paper_bgcolor": "white",
          "plot_bgcolor": "white",
          "polar": {
           "angularaxis": {
            "gridcolor": "#EBF0F8",
            "linecolor": "#EBF0F8",
            "ticks": ""
           },
           "bgcolor": "white",
           "radialaxis": {
            "gridcolor": "#EBF0F8",
            "linecolor": "#EBF0F8",
            "ticks": ""
           }
          },
          "scene": {
           "xaxis": {
            "backgroundcolor": "white",
            "gridcolor": "#DFE8F3",
            "gridwidth": 2,
            "linecolor": "#EBF0F8",
            "showbackground": true,
            "ticks": "",
            "zerolinecolor": "#EBF0F8"
           },
           "yaxis": {
            "backgroundcolor": "white",
            "gridcolor": "#DFE8F3",
            "gridwidth": 2,
            "linecolor": "#EBF0F8",
            "showbackground": true,
            "ticks": "",
            "zerolinecolor": "#EBF0F8"
           },
           "zaxis": {
            "backgroundcolor": "white",
            "gridcolor": "#DFE8F3",
            "gridwidth": 2,
            "linecolor": "#EBF0F8",
            "showbackground": true,
            "ticks": "",
            "zerolinecolor": "#EBF0F8"
           }
          },
          "shapedefaults": {
           "line": {
            "color": "#2a3f5f"
           }
          },
          "ternary": {
           "aaxis": {
            "gridcolor": "#DFE8F3",
            "linecolor": "#A2B1C6",
            "ticks": ""
           },
           "baxis": {
            "gridcolor": "#DFE8F3",
            "linecolor": "#A2B1C6",
            "ticks": ""
           },
           "bgcolor": "white",
           "caxis": {
            "gridcolor": "#DFE8F3",
            "linecolor": "#A2B1C6",
            "ticks": ""
           }
          },
          "title": {
           "x": 0.05
          },
          "xaxis": {
           "automargin": true,
           "gridcolor": "#EBF0F8",
           "linecolor": "#EBF0F8",
           "ticks": "",
           "title": {
            "standoff": 15
           },
           "zerolinecolor": "#EBF0F8",
           "zerolinewidth": 2
          },
          "yaxis": {
           "automargin": true,
           "gridcolor": "#EBF0F8",
           "linecolor": "#EBF0F8",
           "ticks": "",
           "title": {
            "standoff": 15
           },
           "zerolinecolor": "#EBF0F8",
           "zerolinewidth": 2
          }
         }
        },
        "title": {
         "text": "Loredo estimation t+1"
        },
        "xaxis": {
         "title": {
          "text": "Tiempo"
         }
        },
        "yaxis": {
         "title": {
          "text": "EVI"
         }
        }
       }
      }
     },
     "metadata": {},
     "output_type": "display_data"
    }
   ],
   "source": [
    "import plotly.graph_objects as go\n",
    "\n",
    "fig = go.Figure()\n",
    "\n",
    "# Línea de testSeries\n",
    "fig.add_trace(go.Scatter(\n",
    "    y=testSeries[:110],\n",
    "    mode='lines',\n",
    "    name='testSeries'\n",
    "))\n",
    "\n",
    "# Línea de reco_\n",
    "reco_ = loredo_det(x_mean, t + 2, samplesPerYear)\n",
    "fig.add_trace(go.Scatter(\n",
    "    y=reco_,\n",
    "    mode='lines',\n",
    "    name='reco_'\n",
    "))\n",
    "\n",
    "# Punto con barra de error\n",
    "fig.add_trace(go.Scatter(\n",
    "    x=[101],\n",
    "    y=[est.mean()],\n",
    "    mode='markers',\n",
    "    name='estimación',\n",
    "    marker=dict(color='red', size=10),\n",
    "    error_y=dict(\n",
    "        type='data',\n",
    "        array=[est.std()],\n",
    "        visible=True\n",
    "    )\n",
    "))\n",
    "\n",
    "fig.update_layout(\n",
    "    title='Loredo estimation t+1',\n",
    "    xaxis_title='Tiempo',\n",
    "    yaxis_title='EVI',\n",
    "    template='plotly_white'\n",
    ")\n",
    "\n",
    "fig.show()"
   ]
  },
  {
   "cell_type": "code",
   "execution_count": 324,
   "id": "61b92df9",
   "metadata": {},
   "outputs": [
    {
     "data": {
      "text/plain": [
       "(array([2., 1., 1., 2., 3., 1., 1., 0., 2., 2.]),\n",
       " array([0.1731 , 0.18162, 0.19014, 0.19866, 0.20718, 0.2157 , 0.22422,\n",
       "        0.23274, 0.24126, 0.24978, 0.2583 ]),\n",
       " <BarContainer object of 10 artists>)"
      ]
     },
     "execution_count": 324,
     "metadata": {},
     "output_type": "execute_result"
    },
    {
     "data": {
      "image/png": "[encoded data removed]",
      "text/plain": [
       "<Figure size 640x480 with 1 Axes>"
      ]
     },
     "metadata": {},
     "output_type": "display_data"
    }
   ],
   "source": [
    "plt.hist(testSeries[9::samplesPerYear])"
   ]
  },
  {
   "cell_type": "code",
   "execution_count": 326,
   "id": "746826f1",
   "metadata": {},
   "outputs": [
    {
     "data": {
      "text/plain": [
       "101"
      ]
     },
     "execution_count": 326,
     "metadata": {},
     "output_type": "execute_result"
    }
   ],
   "source": [
    "len(reco_)"
   ]
  },
  {
   "cell_type": "code",
   "execution_count": null,
   "id": "d3fc5efd",
   "metadata": {},
   "outputs": [],
   "source": []
  }
 ],
 "metadata": {
  "kernelspec": {
   "display_name": "PyMC5",
   "language": "python",
   "name": "python3"
  },
  "language_info": {
   "codemirror_mode": {
    "name": "ipython",
    "version": 3
   },
   "file_extension": ".py",
   "mimetype": "text/x-python",
   "name": "python",
   "nbconvert_exporter": "python",
   "pygments_lexer": "ipython3",
   "version": "3.11.6"
  }
 },
 "nbformat": 4,
 "nbformat_minor": 5
}
